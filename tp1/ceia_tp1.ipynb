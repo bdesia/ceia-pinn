{
 "cells": [
  {
   "cell_type": "markdown",
   "metadata": {
    "id": "tHbzg4F1fLo7"
   },
   "source": [
    "## Redes Neuronales Informadas por Física\n",
    "### Carrera de Especialización en Inteligencia Artificial - FIUBA\n",
    "\n",
    "## Trabajo Práctico Nº1\n",
    "\n",
    "### 3º Bimestre 2025\n",
    "\n",
    "### Grupo\n",
    "\n",
    "| Autores               | E-mail                    | Nº SIU  |\n",
    "|---------------------- |---------------------------|---------|\n",
    "| Braian Desía          | b.desia@hotmail.com       | a1804   |\n",
    "| Ezequiel Maudet       | eze.maudet@gmail.com      | a1812   |\n",
    "| Federico Zoya         | fzoya33@gmail.com         | a1828   |"
   ]
  },
  {
   "cell_type": "markdown",
   "metadata": {},
   "source": [
    "### 1. LIBRARIES AND GENERAL PARAMETERS"
   ]
  },
  {
   "cell_type": "code",
   "execution_count": 1,
   "metadata": {},
   "outputs": [],
   "source": [
    "import scipy.io                     # for matlab files manipulation\n",
    "import os                           # for files manipulation\n",
    "import pandas as pd                 # for data manipulation\n",
    "import numpy as np                  # for data manipulation\n",
    "import matplotlib.pyplot as plt     # for plotting\n",
    "\n",
    "\n",
    "import torch"
   ]
  },
  {
   "cell_type": "code",
   "execution_count": 2,
   "metadata": {},
   "outputs": [
    {
     "data": {
      "text/plain": [
       "device(type='cpu')"
      ]
     },
     "execution_count": 2,
     "metadata": {},
     "output_type": "execute_result"
    }
   ],
   "source": [
    "device = torch.device(\"cuda:0\" if torch.cuda.is_available() else \"cpu\")\n",
    "device"
   ]
  },
  {
   "cell_type": "code",
   "execution_count": 3,
   "metadata": {},
   "outputs": [],
   "source": [
    "import random\n",
    "\n",
    "def set_seed(seed=42):\n",
    "    random.seed(seed)\n",
    "    os.environ[\"PYTHONHASHSEED\"] = str(seed)\n",
    "    np.random.seed(seed)\n",
    "\n",
    "    # In general seed PyTorch operations\n",
    "    torch.manual_seed(seed)\n",
    "\n",
    "    # If you are using CUDA on 1 GPU, seed it\n",
    "    torch.cuda.manual_seed(seed)\n",
    "\n",
    "    # If you are using CUDA on more than 1 GPU, seed them all\n",
    "    torch.cuda.manual_seed_all(seed)\n",
    "\n",
    "    # Certain operations in Cudnn are not deterministic, and this line will force them to behave!\n",
    "    torch.backends.cudnn.deterministic = True\n",
    "\n",
    "    # Disable the inbuilt cudnn auto-tuner that finds the best algorithm to use for your hardware.\n",
    "    torch.backends.cudnn.benchmark = False\n",
    "\n",
    "set_seed(42)"
   ]
  },
  {
   "cell_type": "markdown",
   "metadata": {},
   "source": [
    "#### 2. PROBLEM DEFINITION"
   ]
  },
  {
   "cell_type": "code",
   "execution_count": 4,
   "metadata": {},
   "outputs": [],
   "source": [
    "# Domain definition\n",
    "x_min = 0\n",
    "x_max = 1\n",
    "\n",
    "y_min = 0\n",
    "y_max = 1"
   ]
  },
  {
   "cell_type": "code",
   "execution_count": 5,
   "metadata": {},
   "outputs": [],
   "source": [
    "# Velocity boundary conditions\n",
    "\n",
    "U_bc = [0, 0, 0, 1]     # [left, right, bot, top]\n",
    "V_bc = [0, 0, 0, 0]     # [left, right, bot, top]"
   ]
  },
  {
   "cell_type": "markdown",
   "metadata": {},
   "source": [
    "### 3. GROUND TRUTH SOLUTION"
   ]
  },
  {
   "cell_type": "markdown",
   "metadata": {},
   "source": [
    "We load the reference solution obtained by finite element analysis."
   ]
  },
  {
   "cell_type": "code",
   "execution_count": 6,
   "metadata": {},
   "outputs": [
    {
     "name": "stdout",
     "output_type": "stream",
     "text": [
      "['pressure.mat', 'velocity.mat']\n"
     ]
    }
   ],
   "source": [
    "folder = 'Re-100'\n",
    "\n",
    "# Read all files in folder\n",
    "files = os.listdir(folder)\n",
    "\n",
    "# Filter only MatLab files\n",
    "mat_files = [f for f in files if f.endswith('.mat')]\n",
    "\n",
    "print(mat_files)"
   ]
  },
  {
   "cell_type": "code",
   "execution_count": 7,
   "metadata": {},
   "outputs": [],
   "source": [
    "def mat2df(mat_file):\n",
    "    \"\"\"\n",
    "    Load a .mat file and convert its variables into a pandas DataFrame.\n",
    "    \n",
    "    Parameters:\n",
    "    - mat_file: str, path to the .mat file\n",
    "    \n",
    "    Returns:\n",
    "    - df: pandas.DataFrame with variables as columns\n",
    "    \"\"\"\n",
    "    file_path = os.path.join(folder, mat_file)\n",
    "    data = scipy.io.loadmat(file_path)\n",
    "    variables = {}\n",
    "    for key in data:\n",
    "        if not key.startswith('__'):\n",
    "            value = data[key]\n",
    "            # Convert scalar values to list\n",
    "            if np.isscalar(value):\n",
    "                variables[key] = [value]\n",
    "            elif isinstance(value, np.ndarray):\n",
    "                # Flatten array if necessary\n",
    "                if value.ndim == 1:\n",
    "                    variables[key] = value\n",
    "                else:\n",
    "                    variables[key] = value.flatten()\n",
    "    # Create DataFrame\n",
    "    df = pd.DataFrame(variables)\n",
    "    return df"
   ]
  },
  {
   "cell_type": "code",
   "execution_count": 8,
   "metadata": {},
   "outputs": [
    {
     "data": {
      "text/html": [
       "<div>\n",
       "<style scoped>\n",
       "    .dataframe tbody tr th:only-of-type {\n",
       "        vertical-align: middle;\n",
       "    }\n",
       "\n",
       "    .dataframe tbody tr th {\n",
       "        vertical-align: top;\n",
       "    }\n",
       "\n",
       "    .dataframe thead th {\n",
       "        text-align: right;\n",
       "    }\n",
       "</style>\n",
       "<table border=\"1\" class=\"dataframe\">\n",
       "  <thead>\n",
       "    <tr style=\"text-align: right;\">\n",
       "      <th></th>\n",
       "      <th>x</th>\n",
       "      <th>y</th>\n",
       "      <th>z</th>\n",
       "      <th>p</th>\n",
       "    </tr>\n",
       "  </thead>\n",
       "  <tbody>\n",
       "    <tr>\n",
       "      <th>0</th>\n",
       "      <td>0.00</td>\n",
       "      <td>0.0</td>\n",
       "      <td>0.0</td>\n",
       "      <td>0.000000</td>\n",
       "    </tr>\n",
       "    <tr>\n",
       "      <th>1</th>\n",
       "      <td>0.01</td>\n",
       "      <td>0.0</td>\n",
       "      <td>0.0</td>\n",
       "      <td>0.000016</td>\n",
       "    </tr>\n",
       "    <tr>\n",
       "      <th>2</th>\n",
       "      <td>0.02</td>\n",
       "      <td>0.0</td>\n",
       "      <td>0.0</td>\n",
       "      <td>0.000013</td>\n",
       "    </tr>\n",
       "    <tr>\n",
       "      <th>3</th>\n",
       "      <td>0.03</td>\n",
       "      <td>0.0</td>\n",
       "      <td>0.0</td>\n",
       "      <td>-0.000038</td>\n",
       "    </tr>\n",
       "    <tr>\n",
       "      <th>4</th>\n",
       "      <td>0.04</td>\n",
       "      <td>0.0</td>\n",
       "      <td>0.0</td>\n",
       "      <td>-0.000131</td>\n",
       "    </tr>\n",
       "  </tbody>\n",
       "</table>\n",
       "</div>"
      ],
      "text/plain": [
       "      x    y    z         p\n",
       "0  0.00  0.0  0.0  0.000000\n",
       "1  0.01  0.0  0.0  0.000016\n",
       "2  0.02  0.0  0.0  0.000013\n",
       "3  0.03  0.0  0.0 -0.000038\n",
       "4  0.04  0.0  0.0 -0.000131"
      ]
     },
     "execution_count": 8,
     "metadata": {},
     "output_type": "execute_result"
    }
   ],
   "source": [
    "df_pressure = mat2df(mat_files[0])\n",
    "df_pressure.head(5)"
   ]
  },
  {
   "cell_type": "code",
   "execution_count": 9,
   "metadata": {},
   "outputs": [
    {
     "data": {
      "text/html": [
       "<div>\n",
       "<style scoped>\n",
       "    .dataframe tbody tr th:only-of-type {\n",
       "        vertical-align: middle;\n",
       "    }\n",
       "\n",
       "    .dataframe tbody tr th {\n",
       "        vertical-align: top;\n",
       "    }\n",
       "\n",
       "    .dataframe thead th {\n",
       "        text-align: right;\n",
       "    }\n",
       "</style>\n",
       "<table border=\"1\" class=\"dataframe\">\n",
       "  <thead>\n",
       "    <tr style=\"text-align: right;\">\n",
       "      <th></th>\n",
       "      <th>x</th>\n",
       "      <th>y</th>\n",
       "      <th>z</th>\n",
       "      <th>u</th>\n",
       "      <th>v</th>\n",
       "      <th>w</th>\n",
       "    </tr>\n",
       "  </thead>\n",
       "  <tbody>\n",
       "    <tr>\n",
       "      <th>0</th>\n",
       "      <td>0.00</td>\n",
       "      <td>0.0</td>\n",
       "      <td>0.0</td>\n",
       "      <td>0.0</td>\n",
       "      <td>0.0</td>\n",
       "      <td>0.0</td>\n",
       "    </tr>\n",
       "    <tr>\n",
       "      <th>1</th>\n",
       "      <td>0.01</td>\n",
       "      <td>0.0</td>\n",
       "      <td>0.0</td>\n",
       "      <td>0.0</td>\n",
       "      <td>0.0</td>\n",
       "      <td>0.0</td>\n",
       "    </tr>\n",
       "    <tr>\n",
       "      <th>2</th>\n",
       "      <td>0.02</td>\n",
       "      <td>0.0</td>\n",
       "      <td>0.0</td>\n",
       "      <td>0.0</td>\n",
       "      <td>0.0</td>\n",
       "      <td>0.0</td>\n",
       "    </tr>\n",
       "    <tr>\n",
       "      <th>3</th>\n",
       "      <td>0.03</td>\n",
       "      <td>0.0</td>\n",
       "      <td>0.0</td>\n",
       "      <td>0.0</td>\n",
       "      <td>0.0</td>\n",
       "      <td>0.0</td>\n",
       "    </tr>\n",
       "    <tr>\n",
       "      <th>4</th>\n",
       "      <td>0.04</td>\n",
       "      <td>0.0</td>\n",
       "      <td>0.0</td>\n",
       "      <td>0.0</td>\n",
       "      <td>0.0</td>\n",
       "      <td>0.0</td>\n",
       "    </tr>\n",
       "  </tbody>\n",
       "</table>\n",
       "</div>"
      ],
      "text/plain": [
       "      x    y    z    u    v    w\n",
       "0  0.00  0.0  0.0  0.0  0.0  0.0\n",
       "1  0.01  0.0  0.0  0.0  0.0  0.0\n",
       "2  0.02  0.0  0.0  0.0  0.0  0.0\n",
       "3  0.03  0.0  0.0  0.0  0.0  0.0\n",
       "4  0.04  0.0  0.0  0.0  0.0  0.0"
      ]
     },
     "execution_count": 9,
     "metadata": {},
     "output_type": "execute_result"
    }
   ],
   "source": [
    "df_velocity = mat2df(mat_files[1])\n",
    "df_velocity.head(5)"
   ]
  },
  {
   "cell_type": "code",
   "execution_count": 10,
   "metadata": {},
   "outputs": [
    {
     "data": {
      "text/html": [
       "<div>\n",
       "<style scoped>\n",
       "    .dataframe tbody tr th:only-of-type {\n",
       "        vertical-align: middle;\n",
       "    }\n",
       "\n",
       "    .dataframe tbody tr th {\n",
       "        vertical-align: top;\n",
       "    }\n",
       "\n",
       "    .dataframe thead th {\n",
       "        text-align: right;\n",
       "    }\n",
       "</style>\n",
       "<table border=\"1\" class=\"dataframe\">\n",
       "  <thead>\n",
       "    <tr style=\"text-align: right;\">\n",
       "      <th></th>\n",
       "      <th>x</th>\n",
       "      <th>y</th>\n",
       "      <th>p</th>\n",
       "      <th>u</th>\n",
       "      <th>v</th>\n",
       "    </tr>\n",
       "  </thead>\n",
       "  <tbody>\n",
       "    <tr>\n",
       "      <th>0</th>\n",
       "      <td>0.00</td>\n",
       "      <td>0.0</td>\n",
       "      <td>0.000000</td>\n",
       "      <td>0.0</td>\n",
       "      <td>0.0</td>\n",
       "    </tr>\n",
       "    <tr>\n",
       "      <th>1</th>\n",
       "      <td>0.01</td>\n",
       "      <td>0.0</td>\n",
       "      <td>0.000016</td>\n",
       "      <td>0.0</td>\n",
       "      <td>0.0</td>\n",
       "    </tr>\n",
       "    <tr>\n",
       "      <th>2</th>\n",
       "      <td>0.02</td>\n",
       "      <td>0.0</td>\n",
       "      <td>0.000013</td>\n",
       "      <td>0.0</td>\n",
       "      <td>0.0</td>\n",
       "    </tr>\n",
       "    <tr>\n",
       "      <th>3</th>\n",
       "      <td>0.03</td>\n",
       "      <td>0.0</td>\n",
       "      <td>-0.000038</td>\n",
       "      <td>0.0</td>\n",
       "      <td>0.0</td>\n",
       "    </tr>\n",
       "    <tr>\n",
       "      <th>4</th>\n",
       "      <td>0.04</td>\n",
       "      <td>0.0</td>\n",
       "      <td>-0.000131</td>\n",
       "      <td>0.0</td>\n",
       "      <td>0.0</td>\n",
       "    </tr>\n",
       "  </tbody>\n",
       "</table>\n",
       "</div>"
      ],
      "text/plain": [
       "      x    y         p    u    v\n",
       "0  0.00  0.0  0.000000  0.0  0.0\n",
       "1  0.01  0.0  0.000016  0.0  0.0\n",
       "2  0.02  0.0  0.000013  0.0  0.0\n",
       "3  0.03  0.0 -0.000038  0.0  0.0\n",
       "4  0.04  0.0 -0.000131  0.0  0.0"
      ]
     },
     "execution_count": 10,
     "metadata": {},
     "output_type": "execute_result"
    }
   ],
   "source": [
    "df_fem = pd.merge(df_pressure[['x', 'y', 'p']], df_velocity[['x', 'y', 'u', 'v']], on=['x', 'y'], how='inner')\n",
    "df_fem.head(5)"
   ]
  },
  {
   "cell_type": "code",
   "execution_count": 11,
   "metadata": {},
   "outputs": [
    {
     "data": {
      "text/plain": [
       "20201"
      ]
     },
     "execution_count": 11,
     "metadata": {},
     "output_type": "execute_result"
    }
   ],
   "source": [
    "ndata = df_fem.shape[0]\n",
    "ndata"
   ]
  },
  {
   "cell_type": "markdown",
   "metadata": {},
   "source": [
    "### 4. DATA GENERATION"
   ]
  },
  {
   "cell_type": "code",
   "execution_count": 12,
   "metadata": {},
   "outputs": [],
   "source": [
    "tags = [\"Domain\", \"BoundaryConditions\"]\n",
    "isData = True          # Flag to indicate whether the analysis would use labelled data or not\n",
    "nsamples = 10\n",
    "\n",
    "# Initialize list of dataset objects\n",
    "ds_uniform = []\n",
    "ds_random = []"
   ]
  },
  {
   "cell_type": "markdown",
   "metadata": {},
   "source": [
    "#### 4.1 Collocation points"
   ]
  },
  {
   "cell_type": "markdown",
   "metadata": {},
   "source": [
    "We generate two sets of collocation points: one inside the domain where the PDE residual will be evaluated, and the other along the boudaries where conditions will be enforced.\n",
    "\n",
    "We define an auxiliary function capable to generate both uniform and randomly distribuited collocation points."
   ]
  },
  {
   "cell_type": "code",
   "execution_count": 13,
   "metadata": {},
   "outputs": [],
   "source": [
    "def get_collocation_points(x_min, x_max, y_min, y_max, n_pde, n_bc, n_out, random = True):\n",
    "    \"\"\"\n",
    "    Generate collocation points for domain and boundary conditions.\n",
    "\n",
    "    Args:\n",
    "    - x_min, x_max: Minimum and maximum values for x-axis.\n",
    "    - y_min, y_max: Minimum and maximum values for y-axis.\n",
    "    - n_pde: Number of points for PDE domain.\n",
    "    - n_bc: Number of points for each boundary.\n",
    "    - random: Flag to choose between random and uniform distribution.\n",
    "    - device: Device on which tensors should be allocated.\n",
    "\n",
    "    Returns:\n",
    "    - X_dom_tensor: Tensor containing the domain points.\n",
    "    - X_bc_tensor: Tensor containing the boundary points.\n",
    "    \"\"\"\n",
    "    if random:\n",
    "        \n",
    "        delta_x = x_max - x_min\n",
    "        delta_y = y_max - y_min\n",
    "        \n",
    "        rand_aux = torch.rand((n_pde + 2 * n_bc, 2), device = device)\n",
    "        \n",
    "        x_dom = (x_min + delta_x * rand_aux[:n_pde, 0]).to(torch.float32)\n",
    "        y_dom = (y_min + delta_y * rand_aux[:n_pde, 1]).to(torch.float32)\n",
    "        \n",
    "        y_left = (y_min + delta_y * rand_aux[n_pde:(n_pde + n_bc), 1]).to(torch.float32)\n",
    "        y_right = (y_min + delta_y * rand_aux[-n_bc:, 1]).to(torch.float32)\n",
    "    \n",
    "        x_bot = (x_min + delta_x * rand_aux[n_pde:(n_pde + n_bc), 0]).to(torch.float32)\n",
    "        x_top = (x_min + delta_x * rand_aux[-n_bc:, 0]).to(torch.float32)\n",
    "\n",
    "    else:\n",
    "        # Adjust n_pde for uniform case\n",
    "        n_pde_sqrt = int(np.sqrt(n_pde))\n",
    "        n_pde = n_pde_sqrt**2\n",
    "        \n",
    "        # Crear una cuadrícula 2D de tamaño n_pde x n_pde\n",
    "        x_vals = torch.linspace(x_min, x_max, n_pde_sqrt, device=device)\n",
    "        y_vals = torch.linspace(y_min, y_max, n_pde_sqrt, device=device)\n",
    "        X_grid, Y_grid = torch.meshgrid(x_vals, y_vals, indexing='ij')\n",
    "\n",
    "        # Aplanar las mallas en vectores 1D si quieres usar en los datos\n",
    "        x_dom = X_grid.reshape(-1)\n",
    "        y_dom = Y_grid.reshape(-1)    \n",
    "        \n",
    "        y_left = torch.linspace(y_min, y_max, n_bc, device = device)\n",
    "        y_right = y_left.clone()\n",
    "        \n",
    "        x_bot = torch.linspace(x_min, x_max, n_bc, device = device)\n",
    "        x_top = x_bot.clone()\n",
    "\n",
    "    x_left = x_min * torch.ones(n_bc)\n",
    "    x_right = x_max * torch.ones(n_bc)\n",
    "    \n",
    "    y_bot = y_min * torch.ones(n_bc)\n",
    "    y_top = y_max * torch.ones(n_bc)\n",
    "\n",
    "    # Combine all domain points\n",
    "    X_dom_tensor = torch.stack((x_dom, y_dom), dim=1)\n",
    "\n",
    "    # Combine all boundary points\n",
    "    X_bc_tensor = torch.cat([\n",
    "                torch.stack((x_left, y_left), dim=1),\n",
    "                torch.stack((x_right, y_right), dim=1),\n",
    "                torch.stack((x_bot, y_bot), dim=1),\n",
    "                torch.stack((x_top, y_top), dim=1),\n",
    "            ], axis=0)\n",
    "\n",
    "    Y_dom_tensor = torch.zeros((n_pde, n_out), device=device)\n",
    "    Y_bc_tensor = torch.zeros((4 * n_bc, n_out), device=device)\n",
    "    print\n",
    "    return X_dom_tensor, Y_dom_tensor, X_bc_tensor, Y_bc_tensor"
   ]
  },
  {
   "cell_type": "code",
   "execution_count": 14,
   "metadata": {},
   "outputs": [],
   "source": [
    "from torch.utils.data import TensorDataset\n",
    "\n",
    "# Number of collocation points\n",
    "n_pde = 1_000       # for domain\n",
    "n_bc = 100          # for Boundary conditions\n",
    "\n",
    "X_dom_uniform_tensor, Y_dom_uniform_tensor, X_bc_uniform_tensor, Y_bc_uniform_tensor = get_collocation_points(x_min, x_max, y_min, y_max, n_pde, n_bc, n_out = 3, random = False)\n",
    "X_dom_rand_tensor, Y_dom_rand_tensor, X_bc_rand_tensor, Y_bc_rand_tensor= get_collocation_points(x_min, x_max, y_min, y_max, n_pde, n_bc, n_out = 3, random = True)\n",
    "\n",
    "ds_uniform.append(TensorDataset(X_dom_uniform_tensor, Y_dom_uniform_tensor))\n",
    "ds_uniform.append(TensorDataset(X_bc_uniform_tensor, Y_bc_uniform_tensor))\n",
    "\n",
    "ds_random.append(TensorDataset(X_dom_rand_tensor, Y_dom_rand_tensor))\n",
    "ds_random.append(TensorDataset(X_bc_rand_tensor, Y_bc_rand_tensor))\n"
   ]
  },
  {
   "cell_type": "markdown",
   "metadata": {},
   "source": [
    "#### 4.2 Boundary Conditions"
   ]
  },
  {
   "cell_type": "code",
   "execution_count": 15,
   "metadata": {},
   "outputs": [],
   "source": [
    "u_tensors = [ui * torch.ones((n_bc, 1)) for ui in U_bc]\n",
    "v_tensors = [vi * torch.ones((n_bc, 1)) for vi in V_bc]\n",
    "\n",
    "u_bc_tensor = torch.cat(u_tensors, axis=0)\n",
    "v_bc_tensor = torch.cat(v_tensors, axis=0)"
   ]
  },
  {
   "cell_type": "markdown",
   "metadata": {},
   "source": [
    "#### 4.3 Labelled data"
   ]
  },
  {
   "cell_type": "code",
   "execution_count": 16,
   "metadata": {},
   "outputs": [],
   "source": [
    "if isData:\n",
    "    tags.append(\"LabelledData\")\n",
    "    idx_data = np.random.choice(range(ndata), nsamples, replace=False)\n",
    "    \n",
    "    data_np = df_fem.iloc[idx_data].to_numpy()                      # Convert df to numpy\n",
    "    data_tensor = torch.from_numpy(data_np).float().to(device)      # Convert numpy to torch tensor\n",
    "\n",
    "    X_data = data_tensor[:, :2]     # columns (x, y)\n",
    "    Y_data = data_tensor[:, 2:]     # columns (p, u, v)\n",
    "\n",
    "    ds_uniform.append(TensorDataset(X_data, Y_data))\n",
    "    ds_random.append(TensorDataset(X_data, Y_data))"
   ]
  },
  {
   "cell_type": "markdown",
   "metadata": {},
   "source": [
    "#### 4.4 Plot grid"
   ]
  },
  {
   "cell_type": "code",
   "execution_count": 17,
   "metadata": {},
   "outputs": [],
   "source": [
    "# Dictionary of dataset objects\n",
    "datasets_uniform = dict(zip(tags, ds_uniform))\n",
    "datasets_random = dict(zip(tags, ds_random))"
   ]
  },
  {
   "cell_type": "code",
   "execution_count": 18,
   "metadata": {},
   "outputs": [],
   "source": [
    "def plot_grid(dataset, title = None):\n",
    "    # Plot the locations of the collocation points in the space domain\n",
    "    X_dom = (dataset[\"Domain\"][:][0]).data.cpu().numpy()\n",
    "    X_bc = (dataset[\"BoundaryConditions\"][:][0]).data.cpu().numpy()\n",
    "    fig = plt.figure()\n",
    "    ax = fig.add_subplot(111)\n",
    "    ax.scatter(X_dom[:,0], X_dom[:, 1], s=4, c='r', label=f'N_dom={len(X_dom)}')\n",
    "    ax.scatter(X_bc[:, 1:2], X_bc[:, 0:1], s=4, c='b', label=f'N_bc={len(X_bc)}')\n",
    "    if isData:\n",
    "        X_data = (dataset[\"LabelledData\"][:][0]).data.cpu().numpy()\n",
    "        ax.scatter(X_data[:, 0], X_data[:, 1], s=4, c='g', label=f'N_Data={len(X_data)}', marker='x')\n",
    "    ax.legend()\n",
    "    plt.xlabel('X-coord')\n",
    "    plt.ylabel('Y-coord')\n",
    "    plt.legend(bbox_to_anchor=(1.04, 1), loc=\"upper left\")\n",
    "    if title is not None:\n",
    "        plt.title(title)\n",
    "    plt.show()"
   ]
  },
  {
   "cell_type": "code",
   "execution_count": 19,
   "metadata": {},
   "outputs": [
    {
     "data": {
      "image/png": "[encoded data removed]",
      "text/plain": [
       "<Figure size 640x480 with 1 Axes>"
      ]
     },
     "metadata": {},
     "output_type": "display_data"
    }
   ],
   "source": [
    "plot_grid(datasets_uniform, title='Uniform distribuited collocation points grid')"
   ]
  },
  {
   "cell_type": "code",
   "execution_count": 20,
   "metadata": {},
   "outputs": [
    {
     "data": {
      "image/png": "[encoded data removed]",
      "text/plain": [
       "<Figure size 640x480 with 1 Axes>"
      ]
     },
     "metadata": {},
     "output_type": "display_data"
    }
   ],
   "source": [
    "plot_grid(datasets_random, title='Random distribuited collocation points grid')"
   ]
  },
  {
   "cell_type": "markdown",
   "metadata": {},
   "source": [
    "The sub-set defined inside the domain where the PDE will be solved shall include physical boundaries in order to enforce the physical governing equations in those regions. In parallel, another sub-set of boundary points shall be defined to impose the values of our prescribed boundary conditions. Furthermore, if our problem were time-dependent, a subset along the time coordinate shall also be established."
   ]
  }
 ],
 "metadata": {
  "accelerator": "GPU",
  "colab": {
   "gpuType": "A100",
   "provenance": []
  },
  "kernelspec": {
   "display_name": "Python 3",
   "name": "python3"
  },
  "language_info": {
   "codemirror_mode": {
    "name": "ipython",
    "version": 3
   },
   "file_extension": ".py",
   "mimetype": "text/x-python",
   "name": "python",
   "nbconvert_exporter": "python",
   "pygments_lexer": "ipython3",
   "version": "3.11.3"
  }
 },
 "nbformat": 4,
 "nbformat_minor": 0
}
