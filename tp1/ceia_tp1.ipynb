{
 "cells": [
  {
   "cell_type": "markdown",
   "metadata": {
    "id": "tHbzg4F1fLo7"
   },
   "source": [
    "## Redes Neuronales Informadas por Física\n",
    "### Carrera de Especialización en Inteligencia Artificial - FIUBA\n",
    "\n",
    "## Trabajo Práctico Nº1\n",
    "\n",
    "### 3º Bimestre 2025\n",
    "\n",
    "### Grupo\n",
    "\n",
    "| Autores               | E-mail                    | Nº SIU  |\n",
    "|---------------------- |---------------------------|---------|\n",
    "| Braian Desía          | b.desia@hotmail.com       | a1804   |\n",
    "| Ezequiel Maudet       | eze.maudet@gmail.com      | a1812   |\n",
    "| Federico Zoya         | fzoya33@gmail.com         | a1828   |"
   ]
  },
  {
   "cell_type": "markdown",
   "metadata": {},
   "source": [
    "### Flow in a Square Cavity (Lid-Driven Cavity)\n",
    "\n",
    "#### Description:\n",
    "\n",
    "This is a standard test case to verify the accuracy of numerical methods solving the incompressible Navier-Stokes equations. The domain is $\\Omega = [0,1] \\times [0,1]$\n",
    "\n",
    "Governing equations in steady state:\n",
    "\n",
    "- Momentum equation (vector form): $(\\mathbf{u} \\cdot \\nabla) \\mathbf{u} = - \\nabla p + \\frac{1}{Re} \\nabla^2 \\mathbf{u}$ in $\\Omega$\n",
    "\n",
    "- Continuity equation (incompressibility): $\\nabla \\cdot \\mathbf{u} = 0$ in $\\Omega$\n",
    "\n",
    "Boundary conditions:  \n",
    "\n",
    "- No-slip condition on the side and bottom walls (velocity zero).\n",
    "- Top wall moves at a constant velocity in the ( +x ) direction."
   ]
  },
  {
   "cell_type": "markdown",
   "metadata": {},
   "source": [
    "### 1. LIBRARIES AND GENERAL PARAMETERS"
   ]
  },
  {
   "cell_type": "code",
   "execution_count": 1,
   "metadata": {},
   "outputs": [],
   "source": [
    "import scipy.io                     # for matlab files manipulation\n",
    "import os                           # for files manipulation\n",
    "import pandas as pd                 # for data manipulation\n",
    "import numpy as np                  # for data manipulation\n",
    "import matplotlib.pyplot as plt     # for plotting\n",
    "\n",
    "\n",
    "import torch                        # For neural networks models\n",
    "from tqdm import tqdm               # For progress bar"
   ]
  },
  {
   "cell_type": "code",
   "execution_count": 2,
   "metadata": {},
   "outputs": [
    {
     "data": {
      "text/plain": [
       "device(type='cpu')"
      ]
     },
     "execution_count": 2,
     "metadata": {},
     "output_type": "execute_result"
    }
   ],
   "source": [
    "device = torch.device(\"cuda:0\" if torch.cuda.is_available() else \"cpu\")\n",
    "device"
   ]
  },
  {
   "cell_type": "code",
   "execution_count": 3,
   "metadata": {},
   "outputs": [],
   "source": [
    "import random\n",
    "\n",
    "def set_seed(seed=42):\n",
    "    random.seed(seed)\n",
    "    os.environ[\"PYTHONHASHSEED\"] = str(seed)\n",
    "    np.random.seed(seed)\n",
    "\n",
    "    # In general seed PyTorch operations\n",
    "    torch.manual_seed(seed)\n",
    "\n",
    "    # If you are using CUDA on 1 GPU, seed it\n",
    "    torch.cuda.manual_seed(seed)\n",
    "\n",
    "    # If you are using CUDA on more than 1 GPU, seed them all\n",
    "    torch.cuda.manual_seed_all(seed)\n",
    "\n",
    "    # Certain operations in Cudnn are not deterministic, and this line will force them to behave!\n",
    "    torch.backends.cudnn.deterministic = True\n",
    "\n",
    "    # Disable the inbuilt cudnn auto-tuner that finds the best algorithm to use for your hardware.\n",
    "    torch.backends.cudnn.benchmark = False\n",
    "\n",
    "set_seed(42)"
   ]
  },
  {
   "cell_type": "markdown",
   "metadata": {},
   "source": [
    "#### 2. PROBLEM DEFINITION"
   ]
  },
  {
   "cell_type": "code",
   "execution_count": 4,
   "metadata": {},
   "outputs": [],
   "source": [
    "# Domain definition\n",
    "x_min = 0\n",
    "x_max = 1\n",
    "\n",
    "y_min = 0\n",
    "y_max = 1"
   ]
  },
  {
   "cell_type": "code",
   "execution_count": 5,
   "metadata": {},
   "outputs": [],
   "source": [
    "# Velocity boundary conditions\n",
    "\n",
    "U_bc = [0, 0, 0, 1]     # [left, right, bot, top]\n",
    "V_bc = [0, 0, 0, 0]     # [left, right, bot, top]"
   ]
  },
  {
   "cell_type": "markdown",
   "metadata": {},
   "source": [
    "### 3. GROUND TRUTH SOLUTION"
   ]
  },
  {
   "cell_type": "markdown",
   "metadata": {},
   "source": [
    "We load the reference solution obtained by finite element analysis."
   ]
  },
  {
   "cell_type": "code",
   "execution_count": 6,
   "metadata": {},
   "outputs": [
    {
     "name": "stdout",
     "output_type": "stream",
     "text": [
      "['pressure.mat', 'velocity.mat']\n"
     ]
    }
   ],
   "source": [
    "folder = 'Re-100'\n",
    "\n",
    "# Read all files in folder\n",
    "files = os.listdir(folder)\n",
    "\n",
    "# Filter only MatLab files\n",
    "mat_files = [f for f in files if f.endswith('.mat')]\n",
    "\n",
    "print(mat_files)"
   ]
  },
  {
   "cell_type": "code",
   "execution_count": 7,
   "metadata": {},
   "outputs": [],
   "source": [
    "def mat2df(mat_file):\n",
    "    \"\"\"\n",
    "    Load a .mat file and convert its variables into a pandas DataFrame.\n",
    "    \n",
    "    Parameters:\n",
    "    - mat_file: str, path to the .mat file\n",
    "    \n",
    "    Returns:\n",
    "    - df: pandas.DataFrame with variables as columns\n",
    "    \"\"\"\n",
    "    file_path = os.path.join(folder, mat_file)\n",
    "    data = scipy.io.loadmat(file_path)\n",
    "    variables = {}\n",
    "    for key in data:\n",
    "        if not key.startswith('__'):\n",
    "            value = data[key]\n",
    "            # Convert scalar values to list\n",
    "            if np.isscalar(value):\n",
    "                variables[key] = [value]\n",
    "            elif isinstance(value, np.ndarray):\n",
    "                # Flatten array if necessary\n",
    "                if value.ndim == 1:\n",
    "                    variables[key] = value\n",
    "                else:\n",
    "                    variables[key] = value.flatten()\n",
    "    # Create DataFrame\n",
    "    df = pd.DataFrame(variables)\n",
    "    return df"
   ]
  },
  {
   "cell_type": "code",
   "execution_count": 8,
   "metadata": {},
   "outputs": [
    {
     "data": {
      "text/html": [
       "<div>\n",
       "<style scoped>\n",
       "    .dataframe tbody tr th:only-of-type {\n",
       "        vertical-align: middle;\n",
       "    }\n",
       "\n",
       "    .dataframe tbody tr th {\n",
       "        vertical-align: top;\n",
       "    }\n",
       "\n",
       "    .dataframe thead th {\n",
       "        text-align: right;\n",
       "    }\n",
       "</style>\n",
       "<table border=\"1\" class=\"dataframe\">\n",
       "  <thead>\n",
       "    <tr style=\"text-align: right;\">\n",
       "      <th></th>\n",
       "      <th>x</th>\n",
       "      <th>y</th>\n",
       "      <th>z</th>\n",
       "      <th>p</th>\n",
       "    </tr>\n",
       "  </thead>\n",
       "  <tbody>\n",
       "    <tr>\n",
       "      <th>0</th>\n",
       "      <td>0.00</td>\n",
       "      <td>0.0</td>\n",
       "      <td>0.0</td>\n",
       "      <td>0.000000</td>\n",
       "    </tr>\n",
       "    <tr>\n",
       "      <th>1</th>\n",
       "      <td>0.01</td>\n",
       "      <td>0.0</td>\n",
       "      <td>0.0</td>\n",
       "      <td>0.000016</td>\n",
       "    </tr>\n",
       "    <tr>\n",
       "      <th>2</th>\n",
       "      <td>0.02</td>\n",
       "      <td>0.0</td>\n",
       "      <td>0.0</td>\n",
       "      <td>0.000013</td>\n",
       "    </tr>\n",
       "    <tr>\n",
       "      <th>3</th>\n",
       "      <td>0.03</td>\n",
       "      <td>0.0</td>\n",
       "      <td>0.0</td>\n",
       "      <td>-0.000038</td>\n",
       "    </tr>\n",
       "    <tr>\n",
       "      <th>4</th>\n",
       "      <td>0.04</td>\n",
       "      <td>0.0</td>\n",
       "      <td>0.0</td>\n",
       "      <td>-0.000131</td>\n",
       "    </tr>\n",
       "  </tbody>\n",
       "</table>\n",
       "</div>"
      ],
      "text/plain": [
       "      x    y    z         p\n",
       "0  0.00  0.0  0.0  0.000000\n",
       "1  0.01  0.0  0.0  0.000016\n",
       "2  0.02  0.0  0.0  0.000013\n",
       "3  0.03  0.0  0.0 -0.000038\n",
       "4  0.04  0.0  0.0 -0.000131"
      ]
     },
     "execution_count": 8,
     "metadata": {},
     "output_type": "execute_result"
    }
   ],
   "source": [
    "df_pressure = mat2df(mat_files[0])\n",
    "df_pressure.head(5)"
   ]
  },
  {
   "cell_type": "code",
   "execution_count": 9,
   "metadata": {},
   "outputs": [
    {
     "data": {
      "text/html": [
       "<div>\n",
       "<style scoped>\n",
       "    .dataframe tbody tr th:only-of-type {\n",
       "        vertical-align: middle;\n",
       "    }\n",
       "\n",
       "    .dataframe tbody tr th {\n",
       "        vertical-align: top;\n",
       "    }\n",
       "\n",
       "    .dataframe thead th {\n",
       "        text-align: right;\n",
       "    }\n",
       "</style>\n",
       "<table border=\"1\" class=\"dataframe\">\n",
       "  <thead>\n",
       "    <tr style=\"text-align: right;\">\n",
       "      <th></th>\n",
       "      <th>x</th>\n",
       "      <th>y</th>\n",
       "      <th>z</th>\n",
       "      <th>u</th>\n",
       "      <th>v</th>\n",
       "      <th>w</th>\n",
       "    </tr>\n",
       "  </thead>\n",
       "  <tbody>\n",
       "    <tr>\n",
       "      <th>0</th>\n",
       "      <td>0.00</td>\n",
       "      <td>0.0</td>\n",
       "      <td>0.0</td>\n",
       "      <td>0.0</td>\n",
       "      <td>0.0</td>\n",
       "      <td>0.0</td>\n",
       "    </tr>\n",
       "    <tr>\n",
       "      <th>1</th>\n",
       "      <td>0.01</td>\n",
       "      <td>0.0</td>\n",
       "      <td>0.0</td>\n",
       "      <td>0.0</td>\n",
       "      <td>0.0</td>\n",
       "      <td>0.0</td>\n",
       "    </tr>\n",
       "    <tr>\n",
       "      <th>2</th>\n",
       "      <td>0.02</td>\n",
       "      <td>0.0</td>\n",
       "      <td>0.0</td>\n",
       "      <td>0.0</td>\n",
       "      <td>0.0</td>\n",
       "      <td>0.0</td>\n",
       "    </tr>\n",
       "    <tr>\n",
       "      <th>3</th>\n",
       "      <td>0.03</td>\n",
       "      <td>0.0</td>\n",
       "      <td>0.0</td>\n",
       "      <td>0.0</td>\n",
       "      <td>0.0</td>\n",
       "      <td>0.0</td>\n",
       "    </tr>\n",
       "    <tr>\n",
       "      <th>4</th>\n",
       "      <td>0.04</td>\n",
       "      <td>0.0</td>\n",
       "      <td>0.0</td>\n",
       "      <td>0.0</td>\n",
       "      <td>0.0</td>\n",
       "      <td>0.0</td>\n",
       "    </tr>\n",
       "  </tbody>\n",
       "</table>\n",
       "</div>"
      ],
      "text/plain": [
       "      x    y    z    u    v    w\n",
       "0  0.00  0.0  0.0  0.0  0.0  0.0\n",
       "1  0.01  0.0  0.0  0.0  0.0  0.0\n",
       "2  0.02  0.0  0.0  0.0  0.0  0.0\n",
       "3  0.03  0.0  0.0  0.0  0.0  0.0\n",
       "4  0.04  0.0  0.0  0.0  0.0  0.0"
      ]
     },
     "execution_count": 9,
     "metadata": {},
     "output_type": "execute_result"
    }
   ],
   "source": [
    "df_velocity = mat2df(mat_files[1])\n",
    "df_velocity.head(5)"
   ]
  },
  {
   "cell_type": "code",
   "execution_count": 10,
   "metadata": {},
   "outputs": [
    {
     "data": {
      "text/html": [
       "<div>\n",
       "<style scoped>\n",
       "    .dataframe tbody tr th:only-of-type {\n",
       "        vertical-align: middle;\n",
       "    }\n",
       "\n",
       "    .dataframe tbody tr th {\n",
       "        vertical-align: top;\n",
       "    }\n",
       "\n",
       "    .dataframe thead th {\n",
       "        text-align: right;\n",
       "    }\n",
       "</style>\n",
       "<table border=\"1\" class=\"dataframe\">\n",
       "  <thead>\n",
       "    <tr style=\"text-align: right;\">\n",
       "      <th></th>\n",
       "      <th>x</th>\n",
       "      <th>y</th>\n",
       "      <th>p</th>\n",
       "      <th>u</th>\n",
       "      <th>v</th>\n",
       "    </tr>\n",
       "  </thead>\n",
       "  <tbody>\n",
       "    <tr>\n",
       "      <th>0</th>\n",
       "      <td>0.00</td>\n",
       "      <td>0.0</td>\n",
       "      <td>0.000000</td>\n",
       "      <td>0.0</td>\n",
       "      <td>0.0</td>\n",
       "    </tr>\n",
       "    <tr>\n",
       "      <th>1</th>\n",
       "      <td>0.01</td>\n",
       "      <td>0.0</td>\n",
       "      <td>0.000016</td>\n",
       "      <td>0.0</td>\n",
       "      <td>0.0</td>\n",
       "    </tr>\n",
       "    <tr>\n",
       "      <th>2</th>\n",
       "      <td>0.02</td>\n",
       "      <td>0.0</td>\n",
       "      <td>0.000013</td>\n",
       "      <td>0.0</td>\n",
       "      <td>0.0</td>\n",
       "    </tr>\n",
       "    <tr>\n",
       "      <th>3</th>\n",
       "      <td>0.03</td>\n",
       "      <td>0.0</td>\n",
       "      <td>-0.000038</td>\n",
       "      <td>0.0</td>\n",
       "      <td>0.0</td>\n",
       "    </tr>\n",
       "    <tr>\n",
       "      <th>4</th>\n",
       "      <td>0.04</td>\n",
       "      <td>0.0</td>\n",
       "      <td>-0.000131</td>\n",
       "      <td>0.0</td>\n",
       "      <td>0.0</td>\n",
       "    </tr>\n",
       "  </tbody>\n",
       "</table>\n",
       "</div>"
      ],
      "text/plain": [
       "      x    y         p    u    v\n",
       "0  0.00  0.0  0.000000  0.0  0.0\n",
       "1  0.01  0.0  0.000016  0.0  0.0\n",
       "2  0.02  0.0  0.000013  0.0  0.0\n",
       "3  0.03  0.0 -0.000038  0.0  0.0\n",
       "4  0.04  0.0 -0.000131  0.0  0.0"
      ]
     },
     "execution_count": 10,
     "metadata": {},
     "output_type": "execute_result"
    }
   ],
   "source": [
    "df_fem = pd.merge(df_pressure[['x', 'y', 'p']], df_velocity[['x', 'y', 'u', 'v']], on=['x', 'y'], how='inner')\n",
    "df_fem.head(5)"
   ]
  },
  {
   "cell_type": "code",
   "execution_count": 11,
   "metadata": {},
   "outputs": [
    {
     "data": {
      "text/plain": [
       "20201"
      ]
     },
     "execution_count": 11,
     "metadata": {},
     "output_type": "execute_result"
    }
   ],
   "source": [
    "ndata = df_fem.shape[0]\n",
    "ndata"
   ]
  },
  {
   "cell_type": "markdown",
   "metadata": {},
   "source": [
    "Contour plot for the FEM results:"
   ]
  },
  {
   "cell_type": "code",
   "execution_count": 12,
   "metadata": {},
   "outputs": [],
   "source": [
    "from scipy.interpolate import griddata\n",
    "\n",
    "def contourplot_df(df, coord_cols, value_col, levels=50):\n",
    "    # Extract node coordinates and nodal values\n",
    "    points = df[['x', 'y']].values\n",
    "    values = df[value_col].values\n",
    "\n",
    "    # Create grid for plotting\n",
    "    grid_x, grid_y = np.mgrid[\n",
    "        points[:,0].min():points[:,0].max():100j,\n",
    "        points[:,1].min():points[:,1].max():100j\n",
    "    ]\n",
    "\n",
    "    # Interpolate nodal values onto grid\n",
    "    grid_z = griddata(points, values, (grid_x, grid_y), method='linear')\n",
    "\n",
    "    # Plot the contour\n",
    "    contour = plt.contourf(grid_x, grid_y, grid_z, levels=levels, cmap='turbo')\n",
    "    plt.colorbar(contour)\n",
    "    plt.title(f'FEM results contour plot of {value_col}')\n",
    "    plt.xlabel(coord_cols[0])\n",
    "    plt.ylabel(coord_cols[1])\n",
    "    plt.axis('equal')\n",
    "    # plt.show()"
   ]
  },
  {
   "cell_type": "code",
   "execution_count": 13,
   "metadata": {},
   "outputs": [
    {
     "data": {
      "image/png": "[encoded data removed]",
      "text/plain": [
       "<Figure size 2400x600 with 6 Axes>"
      ]
     },
     "metadata": {},
     "output_type": "display_data"
    }
   ],
   "source": [
    "variables = ['u', 'v', 'p']\n",
    "fig, axes = plt.subplots(1, 3, figsize=(24, 6))\n",
    "\n",
    "for i, var in enumerate(variables):\n",
    "    plt.sca(axes[i])\n",
    "    contourplot_df(df_fem, ['x', 'y'], var)\n",
    "    \n",
    "for i, var in enumerate(variables):\n",
    "    axes[i].set_title(f'FEM results contour plot of {var}')\n",
    "\n",
    "plt.tight_layout()\n",
    "plt.show()"
   ]
  },
  {
   "cell_type": "markdown",
   "metadata": {},
   "source": [
    "### 4. DATA GENERATION"
   ]
  },
  {
   "cell_type": "code",
   "execution_count": 14,
   "metadata": {},
   "outputs": [],
   "source": [
    "tags = [\"Domain\", \"BoundaryConditions\"]\n",
    "isData = True           # Flag to indicate whether the analysis would use labelled data or not\n",
    "nsamples = 10           # Number of labelled data to be used in the analysis\n",
    "\n",
    "# Initialize list of dataset objects\n",
    "ds_uniform = []\n",
    "ds_random = []"
   ]
  },
  {
   "cell_type": "markdown",
   "metadata": {},
   "source": [
    "#### 4.1 Collocation points"
   ]
  },
  {
   "cell_type": "markdown",
   "metadata": {},
   "source": [
    "We generate two sets of collocation points: one inside the domain where the PDE residual will be evaluated, and the other along the boundaries where conditions will be enforced.\n",
    "\n",
    "We define an auxiliary function capable to generate both uniform and randomly distribuited collocation points."
   ]
  },
  {
   "cell_type": "code",
   "execution_count": 45,
   "metadata": {},
   "outputs": [],
   "source": [
    "def get_collocation_points(x_min, x_max, y_min, y_max, n_pde, n_bc, n_res, n_out, random = True):\n",
    "    \"\"\"\n",
    "    Generate collocation points for domain and boundary conditions.\n",
    "\n",
    "    Args:\n",
    "    - x_min, x_max: Minimum and maximum values for x-axis.\n",
    "    - y_min, y_max: Minimum and maximum values for y-axis.\n",
    "    - n_pde: Number of points for PDE domain.\n",
    "    - n_bc: Number of points for each boundary.\n",
    "    - random: Flag to choose between random and uniform distribution.\n",
    "    - device: Device on which tensors should be allocated.\n",
    "\n",
    "    Returns:\n",
    "    - X_dom_tensor: Tensor containing the domain points.\n",
    "    - X_bc_tensor: Tensor containing the boundary points.\n",
    "    \"\"\"\n",
    "    if random:\n",
    "        \n",
    "        delta_x = x_max - x_min\n",
    "        delta_y = y_max - y_min\n",
    "        \n",
    "        rand_aux = torch.rand((n_pde + 2 * n_bc, 2), device = device)\n",
    "        \n",
    "        x_dom = (x_min + delta_x * rand_aux[:n_pde, 0]).to(torch.float32)\n",
    "        y_dom = (y_min + delta_y * rand_aux[:n_pde, 1]).to(torch.float32)\n",
    "        \n",
    "        y_left = (y_min + delta_y * rand_aux[n_pde:(n_pde + n_bc), 1]).to(torch.float32)\n",
    "        y_right = (y_min + delta_y * rand_aux[-n_bc:, 1]).to(torch.float32)\n",
    "    \n",
    "        x_bot = (x_min + delta_x * rand_aux[n_pde:(n_pde + n_bc), 0]).to(torch.float32)\n",
    "        x_top = (x_min + delta_x * rand_aux[-n_bc:, 0]).to(torch.float32)\n",
    "\n",
    "    else:\n",
    "        # Adjust n_pde for uniform case\n",
    "        n_pde_sqrt = int(np.sqrt(n_pde))\n",
    "        n_pde = n_pde_sqrt**2\n",
    "        \n",
    "        # Crear una cuadrícula 2D de tamaño n_pde x n_pde\n",
    "        x_vals = torch.linspace(x_min, x_max, n_pde_sqrt, device=device)\n",
    "        y_vals = torch.linspace(y_min, y_max, n_pde_sqrt, device=device)\n",
    "        X_grid, Y_grid = torch.meshgrid(x_vals, y_vals, indexing='ij')\n",
    "\n",
    "        # Aplanar las mallas en vectores 1D si quieres usar en los datos\n",
    "        x_dom = X_grid.reshape(-1)\n",
    "        y_dom = Y_grid.reshape(-1)    \n",
    "        \n",
    "        y_left = torch.linspace(y_min, y_max, n_bc, device = device)\n",
    "        y_right = y_left.clone()\n",
    "        \n",
    "        x_bot = torch.linspace(x_min, x_max, n_bc, device = device)\n",
    "        x_top = x_bot.clone()\n",
    "\n",
    "    x_left = x_min * torch.ones(n_bc)\n",
    "    x_right = x_max * torch.ones(n_bc)\n",
    "    \n",
    "    y_bot = y_min * torch.ones(n_bc)\n",
    "    y_top = y_max * torch.ones(n_bc)\n",
    "\n",
    "    # Combine all domain points\n",
    "    X_dom_tensor = torch.stack((x_dom, y_dom), dim=1)\n",
    "\n",
    "    # Combine all boundary points\n",
    "    X_bc_tensor = torch.cat([\n",
    "                torch.stack((x_left, y_left), dim=1),\n",
    "                torch.stack((x_right, y_right), dim=1),\n",
    "                torch.stack((x_bot, y_bot), dim=1),\n",
    "                torch.stack((x_top, y_top), dim=1),\n",
    "            ], axis=0)\n",
    "\n",
    "    Y_dom_tensor = torch.zeros((n_pde, n_res), device=device)\n",
    "    Y_bc_tensor = torch.zeros((4 * n_bc, n_out), device=device)\n",
    "    print\n",
    "    return X_dom_tensor, Y_dom_tensor, X_bc_tensor, Y_bc_tensor"
   ]
  },
  {
   "cell_type": "code",
   "execution_count": 47,
   "metadata": {},
   "outputs": [],
   "source": [
    "from torch.utils.data import TensorDataset\n",
    "\n",
    "# Number of collocation points\n",
    "n_pde = 1_000       # for domain\n",
    "n_bc = 100          # for Boundary conditions\n",
    "\n",
    "X_dom_uniform_tensor, Y_dom_uniform_tensor, X_bc_uniform_tensor, Y_bc_uniform_tensor = get_collocation_points(x_min, x_max, y_min, y_max, n_pde, n_bc//4, n_res = 2, n_out = 3, random = False)\n",
    "X_dom_rand_tensor, Y_dom_rand_tensor, X_bc_rand_tensor, Y_bc_rand_tensor= get_collocation_points(x_min, x_max, y_min, y_max, n_pde, n_bc//4, n_res = 2, n_out = 3, random = True)\n",
    "\n",
    "ds_uniform.append(TensorDataset(X_dom_uniform_tensor, Y_dom_uniform_tensor))\n",
    "ds_uniform.append(TensorDataset(X_bc_uniform_tensor, Y_bc_uniform_tensor))\n",
    "\n",
    "ds_random.append(TensorDataset(X_dom_rand_tensor, Y_dom_rand_tensor))\n",
    "ds_random.append(TensorDataset(X_bc_rand_tensor, Y_bc_rand_tensor))\n"
   ]
  },
  {
   "cell_type": "markdown",
   "metadata": {},
   "source": [
    "#### 4.2 Boundary Conditions"
   ]
  },
  {
   "cell_type": "code",
   "execution_count": 17,
   "metadata": {},
   "outputs": [],
   "source": [
    "u_tensors = [ui * torch.ones((n_bc, 1)) for ui in U_bc]\n",
    "v_tensors = [vi * torch.ones((n_bc, 1)) for vi in V_bc]\n",
    "\n",
    "u_bc_tensor = torch.cat(u_tensors, axis=0)\n",
    "v_bc_tensor = torch.cat(v_tensors, axis=0)"
   ]
  },
  {
   "cell_type": "markdown",
   "metadata": {},
   "source": [
    "#### 4.3 Labelled data"
   ]
  },
  {
   "cell_type": "code",
   "execution_count": 18,
   "metadata": {},
   "outputs": [],
   "source": [
    "if isData:\n",
    "    tags.append(\"LabelledData\")\n",
    "    idx_data = np.random.choice(range(ndata), nsamples, replace=False)\n",
    "    \n",
    "    data_np = df_fem.iloc[idx_data].to_numpy()                      # Convert df to numpy\n",
    "    data_tensor = torch.from_numpy(data_np).float().to(device)      # Convert numpy to torch tensor\n",
    "\n",
    "    X_data = data_tensor[:, :2]     # columns (x, y)\n",
    "    Y_data = data_tensor[:, 2:]     # columns (p, u, v)\n",
    "\n",
    "    ds_uniform.append(TensorDataset(X_data, Y_data))\n",
    "    ds_random.append(TensorDataset(X_data, Y_data))"
   ]
  },
  {
   "cell_type": "markdown",
   "metadata": {},
   "source": [
    "**RESPUESTA PUNTO 3**\n",
    "\n",
    "La inclusión de datos rotulados le permite al modelo combinar información de la física a través de las ecuaciones de gobierno con la información de datos \"reales\" resultando en un modelo más robusto. \n",
    "\n",
    "En términos prácticos, los puntos rotulados actúan como un refuerzo del aprendizaje supervisado, mientras que los puntos de colocación garantizan la consistencia de la solución física en todo el dominio.\n",
    "\n",
    "El dataset de datos rotulados se complementa con el par de datasets del dominio y de la condición de borde."
   ]
  },
  {
   "cell_type": "markdown",
   "metadata": {},
   "source": [
    "#### 4.4 Plot grid"
   ]
  },
  {
   "cell_type": "code",
   "execution_count": 19,
   "metadata": {},
   "outputs": [],
   "source": [
    "# Dictionary of dataset objects\n",
    "datasets_uniform = dict(zip(tags, ds_uniform))\n",
    "datasets_random = dict(zip(tags, ds_random))"
   ]
  },
  {
   "cell_type": "code",
   "execution_count": 20,
   "metadata": {},
   "outputs": [],
   "source": [
    "def plot_grid(dataset, title = None):\n",
    "    # Plot the locations of the collocation points in the space domain\n",
    "    X_dom = (dataset[\"Domain\"][:][0]).data.cpu().numpy()\n",
    "    X_bc = (dataset[\"BoundaryConditions\"][:][0]).data.cpu().numpy()\n",
    "    fig = plt.figure()\n",
    "    ax = fig.add_subplot(111)\n",
    "    ax.scatter(X_dom[:,0], X_dom[:, 1], s=4, c='r', label=f'N_dom={len(X_dom)}')\n",
    "    ax.scatter(X_bc[:, 1:2], X_bc[:, 0:1], s=4, c='b', label=f'N_bc={len(X_bc)}')\n",
    "    if isData:\n",
    "        X_data = (dataset[\"LabelledData\"][:][0]).data.cpu().numpy()\n",
    "        ax.scatter(X_data[:, 0], X_data[:, 1], s=30, c='g', label=f'N_Data={len(X_data)}', marker='*')\n",
    "    ax.legend()\n",
    "    plt.xlabel('X-coord')\n",
    "    plt.ylabel('Y-coord')\n",
    "    plt.legend(bbox_to_anchor=(1.04, 1), loc=\"upper left\")\n",
    "    if title is not None:\n",
    "        plt.title(title)\n",
    "    plt.show()"
   ]
  },
  {
   "cell_type": "code",
   "execution_count": 21,
   "metadata": {},
   "outputs": [
    {
     "data": {
      "image/png": "[encoded data removed]",
      "text/plain": [
       "<Figure size 640x480 with 1 Axes>"
      ]
     },
     "metadata": {},
     "output_type": "display_data"
    }
   ],
   "source": [
    "plot_grid(datasets_uniform, title='Uniform distribuited collocation points grid')"
   ]
  },
  {
   "cell_type": "code",
   "execution_count": 22,
   "metadata": {},
   "outputs": [
    {
     "data": {
      "image/png": "[encoded data removed]",
      "text/plain": [
       "<Figure size 640x480 with 1 Axes>"
      ]
     },
     "metadata": {},
     "output_type": "display_data"
    }
   ],
   "source": [
    "plot_grid(datasets_random, title='Random distribuited collocation points grid')"
   ]
  },
  {
   "cell_type": "markdown",
   "metadata": {},
   "source": [
    "**RESPUESTA PUNTO 4**\n",
    "\n",
    "Las fronteras físicas del dominio forman parte del dominio y, por ende, ahí también se tienen que cumplir las ecuaciones que gobiernan la física del problema, lo cual se hace mínimizando el residuo en los puntos de colocación. Por lo tanto, el sub-conjunto de puntos de colocación dentro del dominio donde la PDE va a ser resuelta debe incluir las fronteras físicas a los efectos de forzar las ecuaciones de gobierno del problema en esas regiones. En paralelo, se debe definir un sub-conjunto de puntos sobre las fronteras físicas en donde las  condiciones de borde están prescriptas. Adicionalmente, si el problema fuese *time-dependent¨*, se deberá definir otro sub-conjunto de puntos a lo largo de la coordenada temporal."
   ]
  },
  {
   "cell_type": "markdown",
   "metadata": {},
   "source": [
    "### 5. PINN IMPLEMENTATION"
   ]
  },
  {
   "cell_type": "markdown",
   "metadata": {},
   "source": [
    "Implementamos la solución usando PyTorch."
   ]
  },
  {
   "cell_type": "markdown",
   "metadata": {},
   "source": [
    "#### 5.1 Model architecture"
   ]
  },
  {
   "cell_type": "markdown",
   "metadata": {},
   "source": [
    "Definimos una FC NN que toma las coordenadas espaciales *(x,y)* como inputs y devuelve los campos velocidades *u*,*v* y presión como outputs.\n",
    "\n",
    "- **INPUTS**:\n",
    "    1. Position vector x-component *x*\n",
    "    2. Position vector x-component *x*\n",
    "\n",
    "- **OUTPUTS**:\n",
    "    1. Velocity vector x-component *u*\n",
    "    2. Velocity vector y-component *v*\n",
    "    3. Pressure scalar *p*"
   ]
  },
  {
   "cell_type": "code",
   "execution_count": 56,
   "metadata": {},
   "outputs": [],
   "source": [
    "import torch.nn as nn\n",
    "import torchinfo as torchinfo\n",
    "\n",
    "# Neural Network\n",
    "class PINN_Module(nn.Module):\n",
    "\n",
    "    def __init__(self, model_parameters):\n",
    "        super(PINN_Module, self).__init__()\n",
    "        self.Device = model_parameters.Device\n",
    "        self.Xmin = model_parameters.Xmin\n",
    "        self.Xmax = model_parameters.Xmax\n",
    "        self.Ymin = model_parameters.Ymin\n",
    "        self.Ymax = model_parameters.Ymax\n",
    "        self.Reynolds = model_parameters.Reynolds\n",
    "        self.InputDimensions = model_parameters.InputDimensions\n",
    "        self.OutputDimensions = model_parameters.OutputDimensions\n",
    "        self.NumberOfNeurons = model_parameters.NumberOfNeurons\n",
    "        self.NumberOfHiddenLayers = model_parameters.NumberOfHiddenLayers\n",
    "        self.ActivationFunction = model_parameters.ActivationFunction\n",
    "        self.Bias = model_parameters.Bias\n",
    "        \n",
    "        # Input layer\n",
    "        self.InputLayer = nn.Linear(self.InputDimensions, self.NumberOfNeurons)\n",
    "        # Hidden layers\n",
    "        self.HiddenLayers = nn.ModuleList(\n",
    "            [nn.Linear(self.NumberOfNeurons, self.NumberOfNeurons, bias = self.Bias) for _ in range(self.NumberOfHiddenLayers - 1)])\n",
    "        # Output layer\n",
    "        self.OutputLayer = nn.Linear(self.NumberOfNeurons, self.OutputDimensions, bias = self.Bias)\n",
    "        \n",
    "        self.init = getattr(model_parameters, 'init', None)\n",
    "        if self.init is None:\n",
    "            pass\n",
    "        elif self.init == 'xavier':\n",
    "            self.init_xavier()\n",
    "        elif self.init == 'he':\n",
    "            self.init_he()\n",
    "        else:\n",
    "            raise ValueError(\"Invalid initialization method. Choose 'xavier', 'he', or None.\")\n",
    "        \n",
    "    def forward(self, inputs):\n",
    "        x_lb = self.Xmin\n",
    "        x_ub = self.Xmax\n",
    "        y_lb = self.Ymin\n",
    "        y_ub = self.Ymax\n",
    "\n",
    "        x, y = inputs[:, 0:1], inputs[:, 1:2]\n",
    "        \n",
    "        x_normalized = 2*(x - x_lb)/(x_ub - x_lb) - 1        # Normalized between [-1, 1]\n",
    "        y_normalized = 2*(y - y_lb)/(y_ub - y_lb) - 1        # Normalized between [-1, 1]\n",
    "        \n",
    "        X = torch.cat([x_normalized, y_normalized], axis=1)\n",
    "        output = self.ActivationFunction(self.InputLayer(X))\n",
    "        for k, l in enumerate(self.HiddenLayers):\n",
    "            output = self.ActivationFunction(l(output))\n",
    "        output = self.OutputLayer(output)\n",
    "        return output\n",
    "\n",
    "    def init_xavier(self):\n",
    "        def init_weights(m):\n",
    "            if isinstance(m, nn.Linear) and m.weight.requires_grad and m.bias.requires_grad:\n",
    "                g = nn.init.calculate_gain('tanh')\n",
    "                torch.nn.init.xavier_uniform_(m.weight, gain=g)\n",
    "                m.bias.data.fill_(0)\n",
    "\n",
    "        self.apply(init_weights)\n",
    "\n",
    "    def init_he(self):\n",
    "        def init_weights(m):\n",
    "            if isinstance(m, nn.Linear) and m.weight.requires_grad and m.bias.requires_grad:\n",
    "                g = nn.init.calculate_gain('relu')\n",
    "                torch.nn.init.kaiming_uniform_(m.weight, a=g, mode='fan_in', nonlinearity='relu')\n",
    "                m.bias.data.fill_(0)\n",
    "\n",
    "        self.apply(init_weights)\n",
    "\n",
    "\n",
    "    def ContinuityResidual(self, X, u, v):\n",
    "        # Compute the derivatives of the output w.r.t. the inputs (space) using AD mechanism:\n",
    "        diff_u = torch.autograd.grad(u, X, create_graph=True, grad_outputs=torch.ones_like(u))[0]\n",
    "        ux = diff_u[:, 0:1]\n",
    "        \n",
    "        diff_v = torch.autograd.grad(v, X, create_graph=True, grad_outputs=torch.ones_like(v))[0]\n",
    "        vy = diff_v[:, 1:2]\n",
    "        \n",
    "        # Continuity equation residual\n",
    "        res = ux + vy\n",
    "        \n",
    "        return res\n",
    "    \n",
    "    def MomentumResidual(self, X, u, v, p):\n",
    "        Re = self.Reynolds\n",
    "\n",
    "        # Compute the derivatives of the output w.r.t. the inputs (space) using AD mechanism:\n",
    "        diff_u = torch.autograd.grad(u, X, create_graph=True, grad_outputs=torch.ones_like(u))[0]\n",
    "        ux, uy = diff_u[:, 0:1], diff_u[:, 1:2]\n",
    "\n",
    "        diff_v = torch.autograd.grad(v, X, create_graph=True, grad_outputs=torch.ones_like(v))[0]\n",
    "        vx, vy = diff_v[:, 0:1], diff_v[:, 1:2]\n",
    "        \n",
    "        diff_p = torch.autograd.grad(p, X, create_graph=True, grad_outputs=torch.ones_like(p))[0]\n",
    "        px, py = diff_p[:, 0:1], diff_p[:, 1:2]\n",
    "        \n",
    "        # Compute the second derivative of velocity vector w.r.t. the inputs (space) using AD mechanism:\n",
    "        uxx = torch.autograd.grad(ux, X, create_graph=True, grad_outputs=torch.ones_like(u))[0][:, 0:1]\n",
    "        uyy = torch.autograd.grad(uy, X, create_graph=True, grad_outputs=torch.ones_like(u))[0][:, 1:2]\n",
    "        \n",
    "        vxx = torch.autograd.grad(vx, X, create_graph=True, grad_outputs=torch.ones_like(v))[0][:, 0:1]\n",
    "        vyy = torch.autograd.grad(vy, X, create_graph=True, grad_outputs=torch.ones_like(v))[0][:, 1:2]      \n",
    "\n",
    "        # Momentum equation residual\n",
    "        res = [\n",
    "            u * ux + v * uy + px - Re * (uxx + uyy),\n",
    "            u * vx + v * vy + py - Re * (vxx + vyy)\n",
    "        ]\n",
    "        return res"
   ]
  },
  {
   "cell_type": "markdown",
   "metadata": {},
   "source": [
    "#### 5.2 Definition of training functions"
   ]
  },
  {
   "cell_type": "code",
   "execution_count": 57,
   "metadata": {},
   "outputs": [],
   "source": [
    "# Loss function\n",
    "loss_function = nn.MSELoss()"
   ]
  },
  {
   "cell_type": "code",
   "execution_count": 58,
   "metadata": {},
   "outputs": [],
   "source": [
    "from sklearn.metrics import accuracy_score\n",
    "\n",
    "def calculate_metric(y, y_pred):\n",
    "    metric = accuracy_score(y)\n",
    "    return metric"
   ]
  },
  {
   "cell_type": "code",
   "execution_count": 63,
   "metadata": {},
   "outputs": [],
   "source": [
    "def train_one_epoch(datasets, tags, model, optimizer, scheduler):\n",
    "    # Lists to store loss\n",
    "    loss_list = []\n",
    "    tag_keys = []\n",
    "\n",
    "    # Zero the parameter gradients\n",
    "    optimizer.zero_grad()\n",
    "    \n",
    "    for tag in tags:\n",
    "        X = (datasets[tag][:][0]).to(device)\n",
    "        y = (datasets[tag][:][1]).to(device)\n",
    "        if tag=='Domain':           # If \"Domain\", we enforced the PDE governing equations\n",
    "            X.requires_grad = True\n",
    "            output = model(X)\n",
    "            u = output[:, 0:1]\n",
    "            v = output[:, 1:2]\n",
    "            p = output[:, 2:3]\n",
    "            \n",
    "            y_hat_continuity = model.ContinuityResidual(X, u, v)\n",
    "            loss_continuity = loss_function(y_hat_continuity, y[:,0])\n",
    "\n",
    "            y_hat_momentum = model.MomentumResidual(X, u, v, p)\n",
    "            loss_momentum = loss_function(y_hat_momentum, y[:,1])\n",
    "\n",
    "            loss = loss_continuity + loss_momentum\n",
    "            \n",
    "        else:   # If \"BoundaryConditions\" or \"LabelledData\", we enforced the boundary conditions or the labelled data       \n",
    "            y_hat = model(X)\n",
    "            loss = 0\n",
    "            for i in range(model.OutputDimensions):\n",
    "                loss += loss_function(y_hat[:,i], y[:,i])\n",
    "        \n",
    "        loss_list.append(loss)\n",
    "        tag_keys.append(tag)\n",
    "\n",
    "    loss = sum(loss_list)\n",
    "        \n",
    "    # Backprop and optimize\n",
    "    loss.backward()\n",
    "    optimizer.step()\n",
    "\n",
    "    # Step the scheduler\n",
    "    scheduler.step()\n",
    "\n",
    "    loss_list.insert(0, loss_momentum)\n",
    "    tag_keys.insert(0, \"Momentum\")\n",
    "    loss_list.insert(0, loss_continuity)  \n",
    "    tag_keys.insert(0, \"Continuity\")\n",
    "    loss_list.insert(0, loss)\n",
    "    tag_keys.insert(0, \"Overall\")\n",
    "\n",
    "    return dict(zip(tag_keys, loss_list))\n"
   ]
  },
  {
   "cell_type": "code",
   "execution_count": 64,
   "metadata": {},
   "outputs": [],
   "source": [
    "def validate_one_epoch(datasets, model):\n",
    "    # Set model to evaluation mode\n",
    "    model.eval()\n",
    "\n",
    "    X = (datasets['LabelledData'][:][0]).to(device)\n",
    "    y = (datasets['LabelledData'][:][1]).to(device)\n",
    "\n",
    "    with torch.no_grad():\n",
    "        y_hat = model(X)\n",
    "        loss = 0\n",
    "        metric = 0\n",
    "        for i in range(model.OutputDimensions):\n",
    "            loss += loss_function(y_hat[:,i], y[:,i])\n",
    "            metric += calculate_metric(y[:,i], y_hat[:,i])\n",
    "\n",
    "    return {\n",
    "        'loss': loss,\n",
    "        'metric': metric,\n",
    "    }"
   ]
  },
  {
   "cell_type": "code",
   "execution_count": 65,
   "metadata": {},
   "outputs": [],
   "source": [
    "def fit(model, optimizer, scheduler, tags, train_datasets, valid_datasets=None):\n",
    "    # Lists to store metrics for training and validation\n",
    "    train_losses = []\n",
    "    val_losses = []\n",
    "    val_metrics = []\n",
    "    \n",
    "    for epoch in range(cfg.epochs):\n",
    "        print(f\"Epoch {epoch + 1}/{cfg.epochs}\")\n",
    "\n",
    "        # Train for one epoch\n",
    "        train_results = train_one_epoch(train_datasets, tags, model, optimizer, scheduler)\n",
    "        print(f\"Train Loss: {train_results['Overall']:.4f}\")\n",
    "        print(f\"Continuity Train loss: {train_results['Continuity']:.4f} Momentum Train loss: {train_results['Momentum']:.4f}\")\n",
    "        print(f\"PDE Train loss: {train_results['Domain']:.4f} BC Train loss: {train_results['BoundaryConditions']:.4f}\")\n",
    "        if isData:\n",
    "            print(f\"Labelled Data Train Loss: {train_results['LabelledData']:.4f}\")\n",
    "        \n",
    "        # Store training losses\n",
    "        train_losses.append(train_results)\n",
    "\n",
    "        if valid_datasets:\n",
    "            # Validation step\n",
    "            val_results = validate_one_epoch(valid_datasets, model)\n",
    "            print(f\"Val Loss: {val_results['loss']:.4f}\")\n",
    "            print(f\"Val accuracy: {val_results['metric']:.4f}\")\n",
    "\n",
    "            # Store validation metrics\n",
    "            val_metrics.append(val_results['metric'])\n",
    "            val_losses.append(val_results['loss'])\n",
    "            \n",
    "    return train_losses, val_losses, val_metrics"
   ]
  },
  {
   "cell_type": "markdown",
   "metadata": {},
   "source": [
    "#### 5.5 Hyperparameter tunning"
   ]
  },
  {
   "cell_type": "code",
   "execution_count": 61,
   "metadata": {},
   "outputs": [],
   "source": [
    "# Input Object for model instance\n",
    "cfg.Device = device\n",
    "cfg.Xmin = x_min\n",
    "cfg.Xmax = x_max\n",
    "cfg.Ymin = y_min\n",
    "cfg.Ymax = y_max\n",
    "cfg.Reynolds = 100\n",
    "cfg.InputDimensions = 2\n",
    "cfg.OutputDimensions = 3\n",
    "cfg.Bias = True\n",
    "cfg.lr_min = 1e-5\n",
    "cfg.ActivationFunction = nn.ReLU()"
   ]
  },
  {
   "cell_type": "code",
   "execution_count": 66,
   "metadata": {},
   "outputs": [
    {
     "name": "stderr",
     "output_type": "stream",
     "text": [
      "[I 2025-07-14 13:06:02,840] A new study created in memory with name: no-name-ef2f4b50-7016-4006-8e88-127df007ca28\n",
      "c:\\Users\\badesia\\AppData\\Local\\Programs\\Python\\Python311\\Lib\\site-packages\\torch\\nn\\modules\\loss.py:610: UserWarning: Using a target size (torch.Size([1000])) that is different to the input size (torch.Size([1000, 1])). This will likely lead to incorrect results due to broadcasting. Please ensure they have the same size.\n",
      "  return F.mse_loss(input, target, reduction=self.reduction)\n",
      "[W 2025-07-14 13:06:02,862] Trial 0 failed with parameters: {'lr': 0.009868447486597048, 'nneurons': 46, 'nhidden': 10} because of the following error: AttributeError(\"'list' object has no attribute 'size'\").\n",
      "Traceback (most recent call last):\n",
      "  File \"c:\\Users\\badesia\\AppData\\Local\\Programs\\Python\\Python311\\Lib\\site-packages\\optuna\\study\\_optimize.py\", line 197, in _run_trial\n",
      "    value_or_values = func(trial)\n",
      "                      ^^^^^^^^^^^\n",
      "  File \"C:\\Users\\badesia\\AppData\\Local\\Temp\\ipykernel_8416\\2151042928.py\", line 31, in objective\n",
      "    train_losses, _, _ = fit(pinn_model, optimizer, scheduler, tags, datasets_random, valid_datasets=None)\n",
      "                         ^^^^^^^^^^^^^^^^^^^^^^^^^^^^^^^^^^^^^^^^^^^^^^^^^^^^^^^^^^^^^^^^^^^^^^^^^^^^^^^^^\n",
      "  File \"C:\\Users\\badesia\\AppData\\Local\\Temp\\ipykernel_8416\\3050455952.py\", line 11, in fit\n",
      "    train_results = train_one_epoch(train_datasets, tags, model, optimizer, scheduler)\n",
      "                    ^^^^^^^^^^^^^^^^^^^^^^^^^^^^^^^^^^^^^^^^^^^^^^^^^^^^^^^^^^^^^^^^^^\n",
      "  File \"C:\\Users\\badesia\\AppData\\Local\\Temp\\ipykernel_8416\\155726115.py\", line 23, in train_one_epoch\n",
      "    loss_momentum = loss_function(y_hat_momentum, y[:,1])\n",
      "                    ^^^^^^^^^^^^^^^^^^^^^^^^^^^^^^^^^^^^^\n",
      "  File \"c:\\Users\\badesia\\AppData\\Local\\Programs\\Python\\Python311\\Lib\\site-packages\\torch\\nn\\modules\\module.py\", line 1739, in _wrapped_call_impl\n",
      "    return self._call_impl(*args, **kwargs)\n",
      "           ^^^^^^^^^^^^^^^^^^^^^^^^^^^^^^^^\n",
      "  File \"c:\\Users\\badesia\\AppData\\Local\\Programs\\Python\\Python311\\Lib\\site-packages\\torch\\nn\\modules\\module.py\", line 1750, in _call_impl\n",
      "    return forward_call(*args, **kwargs)\n",
      "           ^^^^^^^^^^^^^^^^^^^^^^^^^^^^^\n",
      "  File \"c:\\Users\\badesia\\AppData\\Local\\Programs\\Python\\Python311\\Lib\\site-packages\\torch\\nn\\modules\\loss.py\", line 610, in forward\n",
      "    return F.mse_loss(input, target, reduction=self.reduction)\n",
      "           ^^^^^^^^^^^^^^^^^^^^^^^^^^^^^^^^^^^^^^^^^^^^^^^^^^^\n",
      "  File \"c:\\Users\\badesia\\AppData\\Local\\Programs\\Python\\Python311\\Lib\\site-packages\\torch\\nn\\functional.py\", line 3873, in mse_loss\n",
      "    if not (target.size() == input.size()):\n",
      "                             ^^^^^^^^^^\n",
      "AttributeError: 'list' object has no attribute 'size'\n",
      "[W 2025-07-14 13:06:02,862] Trial 0 failed with value None.\n"
     ]
    },
    {
     "name": "stdout",
     "output_type": "stream",
     "text": [
      "Epoch 1/20\n"
     ]
    },
    {
     "ename": "AttributeError",
     "evalue": "'list' object has no attribute 'size'",
     "output_type": "error",
     "traceback": [
      "\u001b[1;31m---------------------------------------------------------------------------\u001b[0m",
      "\u001b[1;31mAttributeError\u001b[0m                            Traceback (most recent call last)",
      "Cell \u001b[1;32mIn[66], line 36\u001b[0m\n\u001b[0;32m     33\u001b[0m     \u001b[38;5;28;01mreturn\u001b[39;00m train_losses[\u001b[38;5;241m-\u001b[39m\u001b[38;5;241m1\u001b[39m][\u001b[38;5;124m'\u001b[39m\u001b[38;5;124mOverall\u001b[39m\u001b[38;5;124m'\u001b[39m]\n\u001b[0;32m     35\u001b[0m study \u001b[38;5;241m=\u001b[39m optuna\u001b[38;5;241m.\u001b[39mcreate_study(direction\u001b[38;5;241m=\u001b[39m\u001b[38;5;124m'\u001b[39m\u001b[38;5;124mminimize\u001b[39m\u001b[38;5;124m'\u001b[39m)\n\u001b[1;32m---> 36\u001b[0m \u001b[43mstudy\u001b[49m\u001b[38;5;241;43m.\u001b[39;49m\u001b[43moptimize\u001b[49m\u001b[43m(\u001b[49m\u001b[43mobjective\u001b[49m\u001b[43m,\u001b[49m\u001b[43m \u001b[49m\u001b[43mn_trials\u001b[49m\u001b[38;5;241;43m=\u001b[39;49m\u001b[38;5;241;43m10\u001b[39;49m\u001b[43m)\u001b[49m\n\u001b[0;32m     37\u001b[0m \u001b[38;5;28mprint\u001b[39m(\u001b[38;5;124m\"\u001b[39m\u001b[38;5;124mBest hyperparameters:\u001b[39m\u001b[38;5;124m\"\u001b[39m, study\u001b[38;5;241m.\u001b[39mbest_params)\n",
      "File \u001b[1;32mc:\\Users\\badesia\\AppData\\Local\\Programs\\Python\\Python311\\Lib\\site-packages\\optuna\\study\\study.py:475\u001b[0m, in \u001b[0;36mStudy.optimize\u001b[1;34m(self, func, n_trials, timeout, n_jobs, catch, callbacks, gc_after_trial, show_progress_bar)\u001b[0m\n\u001b[0;32m    373\u001b[0m \u001b[38;5;28;01mdef\u001b[39;00m \u001b[38;5;21moptimize\u001b[39m(\n\u001b[0;32m    374\u001b[0m     \u001b[38;5;28mself\u001b[39m,\n\u001b[0;32m    375\u001b[0m     func: ObjectiveFuncType,\n\u001b[1;32m   (...)\u001b[0m\n\u001b[0;32m    382\u001b[0m     show_progress_bar: \u001b[38;5;28mbool\u001b[39m \u001b[38;5;241m=\u001b[39m \u001b[38;5;28;01mFalse\u001b[39;00m,\n\u001b[0;32m    383\u001b[0m ) \u001b[38;5;241m-\u001b[39m\u001b[38;5;241m>\u001b[39m \u001b[38;5;28;01mNone\u001b[39;00m:\n\u001b[0;32m    384\u001b[0m \u001b[38;5;250m    \u001b[39m\u001b[38;5;124;03m\"\"\"Optimize an objective function.\u001b[39;00m\n\u001b[0;32m    385\u001b[0m \n\u001b[0;32m    386\u001b[0m \u001b[38;5;124;03m    Optimization is done by choosing a suitable set of hyperparameter values from a given\u001b[39;00m\n\u001b[1;32m   (...)\u001b[0m\n\u001b[0;32m    473\u001b[0m \u001b[38;5;124;03m            If nested invocation of this method occurs.\u001b[39;00m\n\u001b[0;32m    474\u001b[0m \u001b[38;5;124;03m    \"\"\"\u001b[39;00m\n\u001b[1;32m--> 475\u001b[0m     \u001b[43m_optimize\u001b[49m\u001b[43m(\u001b[49m\n\u001b[0;32m    476\u001b[0m \u001b[43m        \u001b[49m\u001b[43mstudy\u001b[49m\u001b[38;5;241;43m=\u001b[39;49m\u001b[38;5;28;43mself\u001b[39;49m\u001b[43m,\u001b[49m\n\u001b[0;32m    477\u001b[0m \u001b[43m        \u001b[49m\u001b[43mfunc\u001b[49m\u001b[38;5;241;43m=\u001b[39;49m\u001b[43mfunc\u001b[49m\u001b[43m,\u001b[49m\n\u001b[0;32m    478\u001b[0m \u001b[43m        \u001b[49m\u001b[43mn_trials\u001b[49m\u001b[38;5;241;43m=\u001b[39;49m\u001b[43mn_trials\u001b[49m\u001b[43m,\u001b[49m\n\u001b[0;32m    479\u001b[0m \u001b[43m        \u001b[49m\u001b[43mtimeout\u001b[49m\u001b[38;5;241;43m=\u001b[39;49m\u001b[43mtimeout\u001b[49m\u001b[43m,\u001b[49m\n\u001b[0;32m    480\u001b[0m \u001b[43m        \u001b[49m\u001b[43mn_jobs\u001b[49m\u001b[38;5;241;43m=\u001b[39;49m\u001b[43mn_jobs\u001b[49m\u001b[43m,\u001b[49m\n\u001b[0;32m    481\u001b[0m \u001b[43m        \u001b[49m\u001b[43mcatch\u001b[49m\u001b[38;5;241;43m=\u001b[39;49m\u001b[38;5;28;43mtuple\u001b[39;49m\u001b[43m(\u001b[49m\u001b[43mcatch\u001b[49m\u001b[43m)\u001b[49m\u001b[43m \u001b[49m\u001b[38;5;28;43;01mif\u001b[39;49;00m\u001b[43m \u001b[49m\u001b[38;5;28;43misinstance\u001b[39;49m\u001b[43m(\u001b[49m\u001b[43mcatch\u001b[49m\u001b[43m,\u001b[49m\u001b[43m \u001b[49m\u001b[43mIterable\u001b[49m\u001b[43m)\u001b[49m\u001b[43m \u001b[49m\u001b[38;5;28;43;01melse\u001b[39;49;00m\u001b[43m \u001b[49m\u001b[43m(\u001b[49m\u001b[43mcatch\u001b[49m\u001b[43m,\u001b[49m\u001b[43m)\u001b[49m\u001b[43m,\u001b[49m\n\u001b[0;32m    482\u001b[0m \u001b[43m        \u001b[49m\u001b[43mcallbacks\u001b[49m\u001b[38;5;241;43m=\u001b[39;49m\u001b[43mcallbacks\u001b[49m\u001b[43m,\u001b[49m\n\u001b[0;32m    483\u001b[0m \u001b[43m        \u001b[49m\u001b[43mgc_after_trial\u001b[49m\u001b[38;5;241;43m=\u001b[39;49m\u001b[43mgc_after_trial\u001b[49m\u001b[43m,\u001b[49m\n\u001b[0;32m    484\u001b[0m \u001b[43m        \u001b[49m\u001b[43mshow_progress_bar\u001b[49m\u001b[38;5;241;43m=\u001b[39;49m\u001b[43mshow_progress_bar\u001b[49m\u001b[43m,\u001b[49m\n\u001b[0;32m    485\u001b[0m \u001b[43m    \u001b[49m\u001b[43m)\u001b[49m\n",
      "File \u001b[1;32mc:\\Users\\badesia\\AppData\\Local\\Programs\\Python\\Python311\\Lib\\site-packages\\optuna\\study\\_optimize.py:63\u001b[0m, in \u001b[0;36m_optimize\u001b[1;34m(study, func, n_trials, timeout, n_jobs, catch, callbacks, gc_after_trial, show_progress_bar)\u001b[0m\n\u001b[0;32m     61\u001b[0m \u001b[38;5;28;01mtry\u001b[39;00m:\n\u001b[0;32m     62\u001b[0m     \u001b[38;5;28;01mif\u001b[39;00m n_jobs \u001b[38;5;241m==\u001b[39m \u001b[38;5;241m1\u001b[39m:\n\u001b[1;32m---> 63\u001b[0m         \u001b[43m_optimize_sequential\u001b[49m\u001b[43m(\u001b[49m\n\u001b[0;32m     64\u001b[0m \u001b[43m            \u001b[49m\u001b[43mstudy\u001b[49m\u001b[43m,\u001b[49m\n\u001b[0;32m     65\u001b[0m \u001b[43m            \u001b[49m\u001b[43mfunc\u001b[49m\u001b[43m,\u001b[49m\n\u001b[0;32m     66\u001b[0m \u001b[43m            \u001b[49m\u001b[43mn_trials\u001b[49m\u001b[43m,\u001b[49m\n\u001b[0;32m     67\u001b[0m \u001b[43m            \u001b[49m\u001b[43mtimeout\u001b[49m\u001b[43m,\u001b[49m\n\u001b[0;32m     68\u001b[0m \u001b[43m            \u001b[49m\u001b[43mcatch\u001b[49m\u001b[43m,\u001b[49m\n\u001b[0;32m     69\u001b[0m \u001b[43m            \u001b[49m\u001b[43mcallbacks\u001b[49m\u001b[43m,\u001b[49m\n\u001b[0;32m     70\u001b[0m \u001b[43m            \u001b[49m\u001b[43mgc_after_trial\u001b[49m\u001b[43m,\u001b[49m\n\u001b[0;32m     71\u001b[0m \u001b[43m            \u001b[49m\u001b[43mreseed_sampler_rng\u001b[49m\u001b[38;5;241;43m=\u001b[39;49m\u001b[38;5;28;43;01mFalse\u001b[39;49;00m\u001b[43m,\u001b[49m\n\u001b[0;32m     72\u001b[0m \u001b[43m            \u001b[49m\u001b[43mtime_start\u001b[49m\u001b[38;5;241;43m=\u001b[39;49m\u001b[38;5;28;43;01mNone\u001b[39;49;00m\u001b[43m,\u001b[49m\n\u001b[0;32m     73\u001b[0m \u001b[43m            \u001b[49m\u001b[43mprogress_bar\u001b[49m\u001b[38;5;241;43m=\u001b[39;49m\u001b[43mprogress_bar\u001b[49m\u001b[43m,\u001b[49m\n\u001b[0;32m     74\u001b[0m \u001b[43m        \u001b[49m\u001b[43m)\u001b[49m\n\u001b[0;32m     75\u001b[0m     \u001b[38;5;28;01melse\u001b[39;00m:\n\u001b[0;32m     76\u001b[0m         \u001b[38;5;28;01mif\u001b[39;00m n_jobs \u001b[38;5;241m==\u001b[39m \u001b[38;5;241m-\u001b[39m\u001b[38;5;241m1\u001b[39m:\n",
      "File \u001b[1;32mc:\\Users\\badesia\\AppData\\Local\\Programs\\Python\\Python311\\Lib\\site-packages\\optuna\\study\\_optimize.py:160\u001b[0m, in \u001b[0;36m_optimize_sequential\u001b[1;34m(study, func, n_trials, timeout, catch, callbacks, gc_after_trial, reseed_sampler_rng, time_start, progress_bar)\u001b[0m\n\u001b[0;32m    157\u001b[0m         \u001b[38;5;28;01mbreak\u001b[39;00m\n\u001b[0;32m    159\u001b[0m \u001b[38;5;28;01mtry\u001b[39;00m:\n\u001b[1;32m--> 160\u001b[0m     frozen_trial \u001b[38;5;241m=\u001b[39m \u001b[43m_run_trial\u001b[49m\u001b[43m(\u001b[49m\u001b[43mstudy\u001b[49m\u001b[43m,\u001b[49m\u001b[43m \u001b[49m\u001b[43mfunc\u001b[49m\u001b[43m,\u001b[49m\u001b[43m \u001b[49m\u001b[43mcatch\u001b[49m\u001b[43m)\u001b[49m\n\u001b[0;32m    161\u001b[0m \u001b[38;5;28;01mfinally\u001b[39;00m:\n\u001b[0;32m    162\u001b[0m     \u001b[38;5;66;03m# The following line mitigates memory problems that can be occurred in some\u001b[39;00m\n\u001b[0;32m    163\u001b[0m     \u001b[38;5;66;03m# environments (e.g., services that use computing containers such as GitHub Actions).\u001b[39;00m\n\u001b[0;32m    164\u001b[0m     \u001b[38;5;66;03m# Please refer to the following PR for further details:\u001b[39;00m\n\u001b[0;32m    165\u001b[0m     \u001b[38;5;66;03m# https://github.com/optuna/optuna/pull/325.\u001b[39;00m\n\u001b[0;32m    166\u001b[0m     \u001b[38;5;28;01mif\u001b[39;00m gc_after_trial:\n",
      "File \u001b[1;32mc:\\Users\\badesia\\AppData\\Local\\Programs\\Python\\Python311\\Lib\\site-packages\\optuna\\study\\_optimize.py:248\u001b[0m, in \u001b[0;36m_run_trial\u001b[1;34m(study, func, catch)\u001b[0m\n\u001b[0;32m    241\u001b[0m         \u001b[38;5;28;01massert\u001b[39;00m \u001b[38;5;28;01mFalse\u001b[39;00m, \u001b[38;5;124m\"\u001b[39m\u001b[38;5;124mShould not reach.\u001b[39m\u001b[38;5;124m\"\u001b[39m\n\u001b[0;32m    243\u001b[0m \u001b[38;5;28;01mif\u001b[39;00m (\n\u001b[0;32m    244\u001b[0m     frozen_trial\u001b[38;5;241m.\u001b[39mstate \u001b[38;5;241m==\u001b[39m TrialState\u001b[38;5;241m.\u001b[39mFAIL\n\u001b[0;32m    245\u001b[0m     \u001b[38;5;129;01mand\u001b[39;00m func_err \u001b[38;5;129;01mis\u001b[39;00m \u001b[38;5;129;01mnot\u001b[39;00m \u001b[38;5;28;01mNone\u001b[39;00m\n\u001b[0;32m    246\u001b[0m     \u001b[38;5;129;01mand\u001b[39;00m \u001b[38;5;129;01mnot\u001b[39;00m \u001b[38;5;28misinstance\u001b[39m(func_err, catch)\n\u001b[0;32m    247\u001b[0m ):\n\u001b[1;32m--> 248\u001b[0m     \u001b[38;5;28;01mraise\u001b[39;00m func_err\n\u001b[0;32m    249\u001b[0m \u001b[38;5;28;01mreturn\u001b[39;00m frozen_trial\n",
      "File \u001b[1;32mc:\\Users\\badesia\\AppData\\Local\\Programs\\Python\\Python311\\Lib\\site-packages\\optuna\\study\\_optimize.py:197\u001b[0m, in \u001b[0;36m_run_trial\u001b[1;34m(study, func, catch)\u001b[0m\n\u001b[0;32m    195\u001b[0m \u001b[38;5;28;01mwith\u001b[39;00m get_heartbeat_thread(trial\u001b[38;5;241m.\u001b[39m_trial_id, study\u001b[38;5;241m.\u001b[39m_storage):\n\u001b[0;32m    196\u001b[0m     \u001b[38;5;28;01mtry\u001b[39;00m:\n\u001b[1;32m--> 197\u001b[0m         value_or_values \u001b[38;5;241m=\u001b[39m \u001b[43mfunc\u001b[49m\u001b[43m(\u001b[49m\u001b[43mtrial\u001b[49m\u001b[43m)\u001b[49m\n\u001b[0;32m    198\u001b[0m     \u001b[38;5;28;01mexcept\u001b[39;00m exceptions\u001b[38;5;241m.\u001b[39mTrialPruned \u001b[38;5;28;01mas\u001b[39;00m e:\n\u001b[0;32m    199\u001b[0m         \u001b[38;5;66;03m# TODO(mamu): Handle multi-objective cases.\u001b[39;00m\n\u001b[0;32m    200\u001b[0m         state \u001b[38;5;241m=\u001b[39m TrialState\u001b[38;5;241m.\u001b[39mPRUNED\n",
      "Cell \u001b[1;32mIn[66], line 31\u001b[0m, in \u001b[0;36mobjective\u001b[1;34m(trial)\u001b[0m\n\u001b[0;32m     24\u001b[0m scheduler \u001b[38;5;241m=\u001b[39m torch\u001b[38;5;241m.\u001b[39moptim\u001b[38;5;241m.\u001b[39mlr_scheduler\u001b[38;5;241m.\u001b[39mCosineAnnealingLR(\n\u001b[0;32m     25\u001b[0m             optimizer,\n\u001b[0;32m     26\u001b[0m             T_max \u001b[38;5;241m=\u001b[39m cfg\u001b[38;5;241m.\u001b[39mepochs,\n\u001b[0;32m     27\u001b[0m             eta_min \u001b[38;5;241m=\u001b[39m cfg\u001b[38;5;241m.\u001b[39mlr_min\n\u001b[0;32m     28\u001b[0m             )\n\u001b[0;32m     30\u001b[0m \u001b[38;5;66;03m#fitting the model on training data and record the result after each epoch\u001b[39;00m\n\u001b[1;32m---> 31\u001b[0m train_losses, _, _ \u001b[38;5;241m=\u001b[39m \u001b[43mfit\u001b[49m\u001b[43m(\u001b[49m\u001b[43mpinn_model\u001b[49m\u001b[43m,\u001b[49m\u001b[43m \u001b[49m\u001b[43moptimizer\u001b[49m\u001b[43m,\u001b[49m\u001b[43m \u001b[49m\u001b[43mscheduler\u001b[49m\u001b[43m,\u001b[49m\u001b[43m \u001b[49m\u001b[43mtags\u001b[49m\u001b[43m,\u001b[49m\u001b[43m \u001b[49m\u001b[43mdatasets_random\u001b[49m\u001b[43m,\u001b[49m\u001b[43m \u001b[49m\u001b[43mvalid_datasets\u001b[49m\u001b[38;5;241;43m=\u001b[39;49m\u001b[38;5;28;43;01mNone\u001b[39;49;00m\u001b[43m)\u001b[49m\n\u001b[0;32m     33\u001b[0m \u001b[38;5;28;01mreturn\u001b[39;00m train_losses[\u001b[38;5;241m-\u001b[39m\u001b[38;5;241m1\u001b[39m][\u001b[38;5;124m'\u001b[39m\u001b[38;5;124mOverall\u001b[39m\u001b[38;5;124m'\u001b[39m]\n",
      "Cell \u001b[1;32mIn[65], line 11\u001b[0m, in \u001b[0;36mfit\u001b[1;34m(model, optimizer, scheduler, tags, train_datasets, valid_datasets)\u001b[0m\n\u001b[0;32m      8\u001b[0m \u001b[38;5;28mprint\u001b[39m(\u001b[38;5;124mf\u001b[39m\u001b[38;5;124m\"\u001b[39m\u001b[38;5;124mEpoch \u001b[39m\u001b[38;5;132;01m{\u001b[39;00mepoch\u001b[38;5;250m \u001b[39m\u001b[38;5;241m+\u001b[39m\u001b[38;5;250m \u001b[39m\u001b[38;5;241m1\u001b[39m\u001b[38;5;132;01m}\u001b[39;00m\u001b[38;5;124m/\u001b[39m\u001b[38;5;132;01m{\u001b[39;00mcfg\u001b[38;5;241m.\u001b[39mepochs\u001b[38;5;132;01m}\u001b[39;00m\u001b[38;5;124m\"\u001b[39m)\n\u001b[0;32m     10\u001b[0m \u001b[38;5;66;03m# Train for one epoch\u001b[39;00m\n\u001b[1;32m---> 11\u001b[0m train_results \u001b[38;5;241m=\u001b[39m \u001b[43mtrain_one_epoch\u001b[49m\u001b[43m(\u001b[49m\u001b[43mtrain_datasets\u001b[49m\u001b[43m,\u001b[49m\u001b[43m \u001b[49m\u001b[43mtags\u001b[49m\u001b[43m,\u001b[49m\u001b[43m \u001b[49m\u001b[43mmodel\u001b[49m\u001b[43m,\u001b[49m\u001b[43m \u001b[49m\u001b[43moptimizer\u001b[49m\u001b[43m,\u001b[49m\u001b[43m \u001b[49m\u001b[43mscheduler\u001b[49m\u001b[43m)\u001b[49m\n\u001b[0;32m     12\u001b[0m \u001b[38;5;28mprint\u001b[39m(\u001b[38;5;124mf\u001b[39m\u001b[38;5;124m\"\u001b[39m\u001b[38;5;124mTrain Loss: \u001b[39m\u001b[38;5;132;01m{\u001b[39;00mtrain_results[\u001b[38;5;124m'\u001b[39m\u001b[38;5;124mOverall\u001b[39m\u001b[38;5;124m'\u001b[39m]\u001b[38;5;132;01m:\u001b[39;00m\u001b[38;5;124m.4f\u001b[39m\u001b[38;5;132;01m}\u001b[39;00m\u001b[38;5;124m\"\u001b[39m)\n\u001b[0;32m     13\u001b[0m \u001b[38;5;28mprint\u001b[39m(\u001b[38;5;124mf\u001b[39m\u001b[38;5;124m\"\u001b[39m\u001b[38;5;124mContinuity Train loss: \u001b[39m\u001b[38;5;132;01m{\u001b[39;00mtrain_results[\u001b[38;5;124m'\u001b[39m\u001b[38;5;124mContinuity\u001b[39m\u001b[38;5;124m'\u001b[39m]\u001b[38;5;132;01m:\u001b[39;00m\u001b[38;5;124m.4f\u001b[39m\u001b[38;5;132;01m}\u001b[39;00m\u001b[38;5;124m Momentum Train loss: \u001b[39m\u001b[38;5;132;01m{\u001b[39;00mtrain_results[\u001b[38;5;124m'\u001b[39m\u001b[38;5;124mMomentum\u001b[39m\u001b[38;5;124m'\u001b[39m]\u001b[38;5;132;01m:\u001b[39;00m\u001b[38;5;124m.4f\u001b[39m\u001b[38;5;132;01m}\u001b[39;00m\u001b[38;5;124m\"\u001b[39m)\n",
      "Cell \u001b[1;32mIn[63], line 23\u001b[0m, in \u001b[0;36mtrain_one_epoch\u001b[1;34m(datasets, tags, model, optimizer, scheduler)\u001b[0m\n\u001b[0;32m     20\u001b[0m     loss_continuity \u001b[38;5;241m=\u001b[39m loss_function(y_hat_continuity, y[:,\u001b[38;5;241m0\u001b[39m])\n\u001b[0;32m     22\u001b[0m     y_hat_momentum \u001b[38;5;241m=\u001b[39m model\u001b[38;5;241m.\u001b[39mMomentumResidual(X, u, v, p)\n\u001b[1;32m---> 23\u001b[0m     loss_momentum \u001b[38;5;241m=\u001b[39m \u001b[43mloss_function\u001b[49m\u001b[43m(\u001b[49m\u001b[43my_hat_momentum\u001b[49m\u001b[43m,\u001b[49m\u001b[43m \u001b[49m\u001b[43my\u001b[49m\u001b[43m[\u001b[49m\u001b[43m:\u001b[49m\u001b[43m,\u001b[49m\u001b[38;5;241;43m1\u001b[39;49m\u001b[43m]\u001b[49m\u001b[43m)\u001b[49m\n\u001b[0;32m     25\u001b[0m     loss \u001b[38;5;241m=\u001b[39m loss_continuity \u001b[38;5;241m+\u001b[39m loss_momentum\n\u001b[0;32m     27\u001b[0m \u001b[38;5;28;01melse\u001b[39;00m:   \u001b[38;5;66;03m# If \"BoundaryConditions\" or \"LabelledData\", we enforced the boundary conditions or the labelled data       \u001b[39;00m\n",
      "File \u001b[1;32mc:\\Users\\badesia\\AppData\\Local\\Programs\\Python\\Python311\\Lib\\site-packages\\torch\\nn\\modules\\module.py:1739\u001b[0m, in \u001b[0;36mModule._wrapped_call_impl\u001b[1;34m(self, *args, **kwargs)\u001b[0m\n\u001b[0;32m   1737\u001b[0m     \u001b[38;5;28;01mreturn\u001b[39;00m \u001b[38;5;28mself\u001b[39m\u001b[38;5;241m.\u001b[39m_compiled_call_impl(\u001b[38;5;241m*\u001b[39margs, \u001b[38;5;241m*\u001b[39m\u001b[38;5;241m*\u001b[39mkwargs)  \u001b[38;5;66;03m# type: ignore[misc]\u001b[39;00m\n\u001b[0;32m   1738\u001b[0m \u001b[38;5;28;01melse\u001b[39;00m:\n\u001b[1;32m-> 1739\u001b[0m     \u001b[38;5;28;01mreturn\u001b[39;00m \u001b[38;5;28;43mself\u001b[39;49m\u001b[38;5;241;43m.\u001b[39;49m\u001b[43m_call_impl\u001b[49m\u001b[43m(\u001b[49m\u001b[38;5;241;43m*\u001b[39;49m\u001b[43margs\u001b[49m\u001b[43m,\u001b[49m\u001b[43m \u001b[49m\u001b[38;5;241;43m*\u001b[39;49m\u001b[38;5;241;43m*\u001b[39;49m\u001b[43mkwargs\u001b[49m\u001b[43m)\u001b[49m\n",
      "File \u001b[1;32mc:\\Users\\badesia\\AppData\\Local\\Programs\\Python\\Python311\\Lib\\site-packages\\torch\\nn\\modules\\module.py:1750\u001b[0m, in \u001b[0;36mModule._call_impl\u001b[1;34m(self, *args, **kwargs)\u001b[0m\n\u001b[0;32m   1745\u001b[0m \u001b[38;5;66;03m# If we don't have any hooks, we want to skip the rest of the logic in\u001b[39;00m\n\u001b[0;32m   1746\u001b[0m \u001b[38;5;66;03m# this function, and just call forward.\u001b[39;00m\n\u001b[0;32m   1747\u001b[0m \u001b[38;5;28;01mif\u001b[39;00m \u001b[38;5;129;01mnot\u001b[39;00m (\u001b[38;5;28mself\u001b[39m\u001b[38;5;241m.\u001b[39m_backward_hooks \u001b[38;5;129;01mor\u001b[39;00m \u001b[38;5;28mself\u001b[39m\u001b[38;5;241m.\u001b[39m_backward_pre_hooks \u001b[38;5;129;01mor\u001b[39;00m \u001b[38;5;28mself\u001b[39m\u001b[38;5;241m.\u001b[39m_forward_hooks \u001b[38;5;129;01mor\u001b[39;00m \u001b[38;5;28mself\u001b[39m\u001b[38;5;241m.\u001b[39m_forward_pre_hooks\n\u001b[0;32m   1748\u001b[0m         \u001b[38;5;129;01mor\u001b[39;00m _global_backward_pre_hooks \u001b[38;5;129;01mor\u001b[39;00m _global_backward_hooks\n\u001b[0;32m   1749\u001b[0m         \u001b[38;5;129;01mor\u001b[39;00m _global_forward_hooks \u001b[38;5;129;01mor\u001b[39;00m _global_forward_pre_hooks):\n\u001b[1;32m-> 1750\u001b[0m     \u001b[38;5;28;01mreturn\u001b[39;00m \u001b[43mforward_call\u001b[49m\u001b[43m(\u001b[49m\u001b[38;5;241;43m*\u001b[39;49m\u001b[43margs\u001b[49m\u001b[43m,\u001b[49m\u001b[43m \u001b[49m\u001b[38;5;241;43m*\u001b[39;49m\u001b[38;5;241;43m*\u001b[39;49m\u001b[43mkwargs\u001b[49m\u001b[43m)\u001b[49m\n\u001b[0;32m   1752\u001b[0m result \u001b[38;5;241m=\u001b[39m \u001b[38;5;28;01mNone\u001b[39;00m\n\u001b[0;32m   1753\u001b[0m called_always_called_hooks \u001b[38;5;241m=\u001b[39m \u001b[38;5;28mset\u001b[39m()\n",
      "File \u001b[1;32mc:\\Users\\badesia\\AppData\\Local\\Programs\\Python\\Python311\\Lib\\site-packages\\torch\\nn\\modules\\loss.py:610\u001b[0m, in \u001b[0;36mMSELoss.forward\u001b[1;34m(self, input, target)\u001b[0m\n\u001b[0;32m    609\u001b[0m \u001b[38;5;28;01mdef\u001b[39;00m \u001b[38;5;21mforward\u001b[39m(\u001b[38;5;28mself\u001b[39m, \u001b[38;5;28minput\u001b[39m: Tensor, target: Tensor) \u001b[38;5;241m-\u001b[39m\u001b[38;5;241m>\u001b[39m Tensor:\n\u001b[1;32m--> 610\u001b[0m     \u001b[38;5;28;01mreturn\u001b[39;00m \u001b[43mF\u001b[49m\u001b[38;5;241;43m.\u001b[39;49m\u001b[43mmse_loss\u001b[49m\u001b[43m(\u001b[49m\u001b[38;5;28;43minput\u001b[39;49m\u001b[43m,\u001b[49m\u001b[43m \u001b[49m\u001b[43mtarget\u001b[49m\u001b[43m,\u001b[49m\u001b[43m \u001b[49m\u001b[43mreduction\u001b[49m\u001b[38;5;241;43m=\u001b[39;49m\u001b[38;5;28;43mself\u001b[39;49m\u001b[38;5;241;43m.\u001b[39;49m\u001b[43mreduction\u001b[49m\u001b[43m)\u001b[49m\n",
      "File \u001b[1;32mc:\\Users\\badesia\\AppData\\Local\\Programs\\Python\\Python311\\Lib\\site-packages\\torch\\nn\\functional.py:3873\u001b[0m, in \u001b[0;36mmse_loss\u001b[1;34m(input, target, size_average, reduce, reduction, weight)\u001b[0m\n\u001b[0;32m   3861\u001b[0m \u001b[38;5;28;01mif\u001b[39;00m has_torch_function_variadic(\u001b[38;5;28minput\u001b[39m, target, weight):\n\u001b[0;32m   3862\u001b[0m     \u001b[38;5;28;01mreturn\u001b[39;00m handle_torch_function(\n\u001b[0;32m   3863\u001b[0m         mse_loss,\n\u001b[0;32m   3864\u001b[0m         (\u001b[38;5;28minput\u001b[39m, target, weight),\n\u001b[1;32m   (...)\u001b[0m\n\u001b[0;32m   3870\u001b[0m         weight\u001b[38;5;241m=\u001b[39mweight,\n\u001b[0;32m   3871\u001b[0m     )\n\u001b[1;32m-> 3873\u001b[0m \u001b[38;5;28;01mif\u001b[39;00m \u001b[38;5;129;01mnot\u001b[39;00m (target\u001b[38;5;241m.\u001b[39msize() \u001b[38;5;241m==\u001b[39m \u001b[38;5;28;43minput\u001b[39;49m\u001b[38;5;241;43m.\u001b[39;49m\u001b[43msize\u001b[49m()):\n\u001b[0;32m   3874\u001b[0m     warnings\u001b[38;5;241m.\u001b[39mwarn(\n\u001b[0;32m   3875\u001b[0m         \u001b[38;5;124mf\u001b[39m\u001b[38;5;124m\"\u001b[39m\u001b[38;5;124mUsing a target size (\u001b[39m\u001b[38;5;132;01m{\u001b[39;00mtarget\u001b[38;5;241m.\u001b[39msize()\u001b[38;5;132;01m}\u001b[39;00m\u001b[38;5;124m) that is different to the input size (\u001b[39m\u001b[38;5;132;01m{\u001b[39;00m\u001b[38;5;28minput\u001b[39m\u001b[38;5;241m.\u001b[39msize()\u001b[38;5;132;01m}\u001b[39;00m\u001b[38;5;124m). \u001b[39m\u001b[38;5;124m\"\u001b[39m\n\u001b[0;32m   3876\u001b[0m         \u001b[38;5;124m\"\u001b[39m\u001b[38;5;124mThis will likely lead to incorrect results due to broadcasting. \u001b[39m\u001b[38;5;124m\"\u001b[39m\n\u001b[0;32m   3877\u001b[0m         \u001b[38;5;124m\"\u001b[39m\u001b[38;5;124mPlease ensure they have the same size.\u001b[39m\u001b[38;5;124m\"\u001b[39m,\n\u001b[0;32m   3878\u001b[0m         stacklevel\u001b[38;5;241m=\u001b[39m\u001b[38;5;241m2\u001b[39m,\n\u001b[0;32m   3879\u001b[0m     )\n\u001b[0;32m   3881\u001b[0m \u001b[38;5;28;01mif\u001b[39;00m size_average \u001b[38;5;129;01mis\u001b[39;00m \u001b[38;5;129;01mnot\u001b[39;00m \u001b[38;5;28;01mNone\u001b[39;00m \u001b[38;5;129;01mor\u001b[39;00m reduce \u001b[38;5;129;01mis\u001b[39;00m \u001b[38;5;129;01mnot\u001b[39;00m \u001b[38;5;28;01mNone\u001b[39;00m:\n",
      "\u001b[1;31mAttributeError\u001b[0m: 'list' object has no attribute 'size'"
     ]
    }
   ],
   "source": [
    "import optuna\n",
    "\n",
    "def objective(trial):\n",
    "    lr  = trial.suggest_float('lr', 1e-4, 1e-2)             # Learning rate\n",
    "    nneurons = trial.suggest_int('nneurons', 10, 50)        # Number of neurons\n",
    "    nhidden = trial.suggest_int('nhidden', 4, 64)\n",
    "    \n",
    "    cfg.learning_rate  = lr\n",
    "    cfg.NumberOfNeurons = nneurons\n",
    "    cfg.NumberOfHiddenLayers = nhidden\n",
    "    \n",
    "    # Instanciamos la red\n",
    "    pinn_model = PINN_Module(cfg).to(device)\n",
    "    \n",
    "    # Run training loop and return final loss\n",
    "    cfg.epochs = 20\n",
    "    \n",
    "    optimizer = torch.optim.Adam(\n",
    "                            pinn_model.parameters(),\n",
    "                            lr = cfg.learning_rate,\n",
    "                            weight_decay = 0,\n",
    "                        )\n",
    "\n",
    "    scheduler = torch.optim.lr_scheduler.CosineAnnealingLR(\n",
    "                optimizer,\n",
    "                T_max = cfg.epochs,\n",
    "                eta_min = cfg.lr_min\n",
    "                )\n",
    "    \n",
    "    #fitting the model on training data and record the result after each epoch\n",
    "    train_losses, _, _ = fit(pinn_model, optimizer, scheduler, tags, datasets_random, valid_datasets=None)\n",
    "\n",
    "    return train_losses[-1]['Overall']\n",
    "\n",
    "study = optuna.create_study(direction='minimize')\n",
    "study.optimize(objective, n_trials=10)\n",
    "print(\"Best hyperparameters:\", study.best_params)"
   ]
  },
  {
   "cell_type": "markdown",
   "metadata": {},
   "source": [
    "We generate a *config* object in order to modify parameters during numerical experimentation."
   ]
  },
  {
   "cell_type": "code",
   "execution_count": 32,
   "metadata": {},
   "outputs": [],
   "source": [
    "from types import SimpleNamespace\n",
    "\n",
    "cfg = SimpleNamespace(**{})"
   ]
  },
  {
   "cell_type": "code",
   "execution_count": null,
   "metadata": {},
   "outputs": [],
   "source": []
  },
  {
   "cell_type": "code",
   "execution_count": 34,
   "metadata": {},
   "outputs": [
    {
     "ename": "AttributeError",
     "evalue": "'types.SimpleNamespace' object has no attribute 'NumberOfNeurons'",
     "output_type": "error",
     "traceback": [
      "\u001b[1;31m---------------------------------------------------------------------------\u001b[0m",
      "\u001b[1;31mAttributeError\u001b[0m                            Traceback (most recent call last)",
      "Cell \u001b[1;32mIn[34], line 2\u001b[0m\n\u001b[0;32m      1\u001b[0m \u001b[38;5;66;03m# Model construction\u001b[39;00m\n\u001b[1;32m----> 2\u001b[0m model \u001b[38;5;241m=\u001b[39m \u001b[43mPINN_Module\u001b[49m\u001b[43m(\u001b[49m\u001b[43mcfg\u001b[49m\u001b[43m)\u001b[49m\u001b[38;5;241m.\u001b[39mto(device)\n\u001b[0;32m      4\u001b[0m \u001b[38;5;66;03m# Print the model architecture\u001b[39;00m\n\u001b[0;32m      5\u001b[0m \u001b[38;5;28mprint\u001b[39m(torchinfo\u001b[38;5;241m.\u001b[39msummary(model))\n",
      "Cell \u001b[1;32mIn[23], line 17\u001b[0m, in \u001b[0;36mPINN_Module.__init__\u001b[1;34m(self, model_parameters)\u001b[0m\n\u001b[0;32m     15\u001b[0m \u001b[38;5;28mself\u001b[39m\u001b[38;5;241m.\u001b[39mInputDimensions \u001b[38;5;241m=\u001b[39m model_parameters\u001b[38;5;241m.\u001b[39mInputDimensions\n\u001b[0;32m     16\u001b[0m \u001b[38;5;28mself\u001b[39m\u001b[38;5;241m.\u001b[39mOutputDimensions \u001b[38;5;241m=\u001b[39m model_parameters\u001b[38;5;241m.\u001b[39mOutputDimensions\n\u001b[1;32m---> 17\u001b[0m \u001b[38;5;28mself\u001b[39m\u001b[38;5;241m.\u001b[39mNumberOfNeurons \u001b[38;5;241m=\u001b[39m \u001b[43mmodel_parameters\u001b[49m\u001b[38;5;241;43m.\u001b[39;49m\u001b[43mNumberOfNeurons\u001b[49m\n\u001b[0;32m     18\u001b[0m \u001b[38;5;28mself\u001b[39m\u001b[38;5;241m.\u001b[39mNumberOfHiddenLayers \u001b[38;5;241m=\u001b[39m model_parameters\u001b[38;5;241m.\u001b[39mNumberOfHiddenLayers\n\u001b[0;32m     19\u001b[0m \u001b[38;5;28mself\u001b[39m\u001b[38;5;241m.\u001b[39mActivationFunction \u001b[38;5;241m=\u001b[39m model_parameters\u001b[38;5;241m.\u001b[39mActivationFunction\n",
      "\u001b[1;31mAttributeError\u001b[0m: 'types.SimpleNamespace' object has no attribute 'NumberOfNeurons'"
     ]
    }
   ],
   "source": [
    "# Model construction\n",
    "model = PINN_Module(cfg).to(device)\n",
    "\n",
    "# Print the model architecture\n",
    "print(torchinfo.summary(model))\n"
   ]
  },
  {
   "cell_type": "markdown",
   "metadata": {},
   "source": [
    "Definimos una función de entrenamiento por epoch. Primeramente, cálculamos por separado la función de pérdida asociada a la ecuación de continuidad y a la ecuación de momentum con el objetivo de poder monitorear en forma independiente como van evolucionando a través del entrenamiento. Al final, sumamos ambas pérdidas para tener un valor general del problema."
   ]
  },
  {
   "cell_type": "code",
   "execution_count": null,
   "metadata": {},
   "outputs": [],
   "source": []
  },
  {
   "cell_type": "code",
   "execution_count": null,
   "metadata": {},
   "outputs": [],
   "source": [
    "def plot_history(train_f1, train_loss, val_f1, val_loss, title=None):\n",
    "    # Extract species and health metrics for train_f1\n",
    "    train_species = [epoch['species_metric'] for epoch in train_f1]\n",
    "    train_health = [epoch['health_metric'] for epoch in train_f1]\n",
    "    # Extract species and health metrics for val_f1\n",
    "    val_species = [epoch['species_metric'] for epoch in val_f1]\n",
    "    val_health = [epoch['health_metric'] for epoch in val_f1]\n",
    "\n",
    "    fig, ax = plt.subplots(1, 2, figsize=(12, 4))\n",
    "\n",
    "    # Plot Loss\n",
    "    ax[0].plot(range(len(train_loss)), train_loss, color='darkgrey', label='train')\n",
    "    ax[0].plot(range(len(val_loss)), val_loss, color='cornflowerblue', label='validation')\n",
    "    ax[0].set_title('Loss')\n",
    "    ax[0].set_xlabel('Epochs')\n",
    "    ax[0].legend(loc='upper right')\n",
    "\n",
    "    # Plot F1 scores\n",
    "    ax[1].plot(range(len(train_species)), train_species, label='Species Train', color='blue')\n",
    "    ax[1].plot(range(len(train_health)), train_health, label='Health Train', color='cyan')\n",
    "    ax[1].plot(range(len(val_species)), val_species, label='Species Validation', color='red')\n",
    "    ax[1].plot(range(len(val_health)), val_health, label='Health Validation', color='orange')\n",
    "    ax[1].set_title('F1 scores')\n",
    "    ax[1].set_xlabel('Epochs')\n",
    "    ax[1].legend(loc='upper right')\n",
    "\n",
    "    if title:\n",
    "        plt.suptitle(title, fontsize=16)\n",
    "\n",
    "    plt.tight_layout()\n",
    "    plt.show()"
   ]
  },
  {
   "cell_type": "markdown",
   "metadata": {},
   "source": [
    "#### 5.4 Training"
   ]
  },
  {
   "cell_type": "code",
   "execution_count": null,
   "metadata": {},
   "outputs": [],
   "source": [
    "filename = 'best_pinn_model.pth'\n",
    "\n",
    "if os.path.exists(filename):\n",
    "    state_dict = torch.load('./' + filename, map_location=cfg.device)\n",
    "    best_model.load_state_dict(state_dict)\n",
    "\n",
    "else:\n",
    "  cfg.epochs = 100\n",
    "\n",
    "  optimizer = torch.optim.Adam(\n",
    "    best_model.parameters(),\n",
    "    lr = cfg.learning_rate,\n",
    "    weight_decay = 0,\n",
    "  )\n",
    "\n",
    "  scheduler = torch.optim.lr_scheduler.CosineAnnealingLR(\n",
    "    optimizer,\n",
    "    T_max = cfg.epochs,\n",
    "    eta_min = cfg.lr_min\n",
    "  )\n",
    "\n",
    "  best_model = best_model.to(cfg.device)\n",
    "  train_f1, train_loss, val_f1, val_loss = fit(baseline,\n",
    "                                              optimizer,\n",
    "                                              scheduler,\n",
    "                                              cfg,\n",
    "                                              train_loader,\n",
    "                                              val_loader)\n",
    "\n",
    "  plot_history(train_f1, train_loss, val_f1, val_loss, title = 'Baseline #1: Simple CNN')\n",
    "\n",
    "  # Save the trained model\n",
    "\n",
    "  torch.save(best_model.state_dict(), filename)\n",
    "\n",
    "  if IN_COLAB:  # Download the file\n",
    "      from google.colab import files\n",
    "      files.download(filename)"
   ]
  },
  {
   "cell_type": "markdown",
   "metadata": {},
   "source": [
    "#### 2.3 Best CNN Model"
   ]
  },
  {
   "cell_type": "code",
   "execution_count": null,
   "metadata": {},
   "outputs": [],
   "source": [
    "# Recover best parameters\n",
    "lr = study.best_params['lr']\n",
    "n_conv_layers = study.best_params['n_conv_layers']\n",
    "n_hidden_layers = study.best_params['n_hidden_layers']\n",
    "kernel = study.best_params['kernel']\n",
    "\n",
    "print(f'Learning Rate: {lr}')\n",
    "print(f'Number of Convolutional Layers: {n_conv_layers}')\n",
    "print(f'Number of Hidden Layers: {n_hidden_layers}')\n",
    "print(f'Kernel Size: {kernel}')\n",
    "\n",
    "# CNN parameters\n",
    "n_channels = 1\n",
    "last_cout = 4\n",
    "inputs_by_conv_layer = [n_channels, last_cout]\n",
    "for i in range(n_conv_layers-1):\n",
    "    inputs_by_conv_layer.append(last_cout * 2)\n",
    "    last_cout *= 2\n",
    "\n",
    "# FCNN Hidden parameters\n",
    "last_hout = 64\n",
    "inputs_by_hidden_layer = [last_hout]\n",
    "for i in range(n_hidden_layers-1):\n",
    "    inputs_by_hidden_layer.append(last_hout * 2)\n",
    "    last_hout *= 2\n",
    "\n",
    "# Instanciamos la red\n",
    "best_cnn_model = CNN_EmotionClassifier(inputs_by_conv_layer,\n",
    "                    inputs_by_hidden_layer,\n",
    "                    n_outputs = nclasses,\n",
    "                    kernel = kernel,\n",
    "                    in_height = in_height,\n",
    "                    in_width = in_width,\n",
    "                    )"
   ]
  },
  {
   "cell_type": "code",
   "execution_count": null,
   "metadata": {},
   "outputs": [],
   "source": [
    "import torchinfo as torchinfo\n",
    "\n",
    "torchinfo.summary(best_cnn_model)"
   ]
  },
  {
   "cell_type": "code",
   "execution_count": null,
   "metadata": {},
   "outputs": [],
   "source": [
    "num_epochs = 30\n",
    "patience = 10\n",
    "opt_func = torch.optim.Adam\n",
    "#fitting the model on training data and record the result after each epoch\n",
    "history = fit(best_cnn_model, train_loader, val_loader, num_epochs, patience, lr, opt_func)  "
   ]
  },
  {
   "cell_type": "markdown",
   "metadata": {},
   "source": [
    "#### 5.5 Testing the model"
   ]
  },
  {
   "cell_type": "code",
   "execution_count": null,
   "metadata": {},
   "outputs": [],
   "source": [
    "# Test step\n",
    "test_result = validate_one_epoch(test_loader, baseline, cfg)\n",
    "print(f\"Test Loss: {test_result['loss']:.4f}\")\n",
    "print(f\"Species Test F1: {test_result['species_metric']:.4f} Health Test F1: {test_result['health_metric']:.4f}\")"
   ]
  },
  {
   "cell_type": "code",
   "execution_count": null,
   "metadata": {},
   "outputs": [],
   "source": [
    "def predict(dataloader, model, cfg):\n",
    "    model.eval()  # Modo evaluación\n",
    "\n",
    "    final_species = []\n",
    "    final_health = []\n",
    "\n",
    "    # Iterar sobre los datos\n",
    "    for step, batch in tqdm(enumerate(dataloader), total=len(dataloader)):\n",
    "        X = batch[0].to(cfg.device)\n",
    "\n",
    "        with torch.no_grad():\n",
    "            # Forward pass\n",
    "            species_logits, healthy_logits = model(X)\n",
    "\n",
    "            # Predicciones\n",
    "            pred_species = torch.argmax(species_logits, dim=1)\n",
    "            pred_health = torch.sigmoid(healthy_logits).squeeze()\n",
    "\n",
    "            # Convertir predicciones a listas y acumular\n",
    "            final_species.extend(pred_species.cpu().numpy())\n",
    "            final_health.extend(pred_health.cpu().numpy())\n",
    "\n",
    "    # Devolver como diccionario o lista\n",
    "    return {\n",
    "        'species': np.array(final_species),\n",
    "        'health': (np.array(final_health) > 0.5).astype(int)\n",
    "    }\n",
    "\n",
    "\n",
    "# Usar la función predict con la instancia del modelo\n",
    "y_pred_base = predict(test_loader, baseline, cfg)\n",
    "\n",
    "# Recuperar las etiquetas verdaderas del set de test\n",
    "species_labels = []\n",
    "health_labels = []\n",
    "\n",
    "for _, labels in test_loader:\n",
    "    species_labels.extend(labels['species'].cpu().numpy())\n",
    "    health_labels.extend(labels['health'].cpu().numpy())\n",
    "\n",
    "y_test_species = np.array(species_labels)\n",
    "y_test_health = np.array(health_labels)"
   ]
  },
  {
   "cell_type": "code",
   "execution_count": null,
   "metadata": {},
   "outputs": [
    {
     "ename": "NameError",
     "evalue": "name 'datasets' is not defined",
     "output_type": "error",
     "traceback": [
      "\u001b[1;31m---------------------------------------------------------------------------\u001b[0m",
      "\u001b[1;31mNameError\u001b[0m                                 Traceback (most recent call last)",
      "Cell \u001b[1;32mIn[49], line 18\u001b[0m\n\u001b[0;32m     16\u001b[0m optimizer\u001b[38;5;241m.\u001b[39mzero_grad()\n\u001b[0;32m     17\u001b[0m \u001b[38;5;28;01mfor\u001b[39;00m tag \u001b[38;5;129;01min\u001b[39;00m tags:\n\u001b[1;32m---> 18\u001b[0m     X \u001b[38;5;241m=\u001b[39m (\u001b[43mdatasets\u001b[49m[tag][:][\u001b[38;5;241m0\u001b[39m])\u001b[38;5;241m.\u001b[39mto(device)\n\u001b[0;32m     19\u001b[0m     y \u001b[38;5;241m=\u001b[39m (datasets[tag][:][\u001b[38;5;241m1\u001b[39m])\u001b[38;5;241m.\u001b[39mto(device)\n\u001b[0;32m     20\u001b[0m     \u001b[38;5;28;01mif\u001b[39;00m tag\u001b[38;5;241m==\u001b[39m\u001b[38;5;124m'\u001b[39m\u001b[38;5;124mDomain\u001b[39m\u001b[38;5;124m'\u001b[39m:\n",
      "\u001b[1;31mNameError\u001b[0m: name 'datasets' is not defined"
     ]
    }
   ],
   "source": [
    "# # Fitting stage\n",
    "# t0 = datetime.now()\n",
    "# data_time_now = datetime.now().strftime(\"%d%m%Y_%H%M%S\")\n",
    "\n",
    "# Training parameters\n",
    "epochs = 100            # cantidad de epochs\n",
    "patience = 10           # early stopping patience\n",
    "\n",
    "# List initialization\n",
    "loss_train = []\n",
    "loss_train_dom = []\n",
    "loss_train_bc = []\n",
    "loss_train_data = []\n",
    "\n",
    "# Early Stopping parameters\n",
    "best_val_loss = float('inf')\n",
    "patience_counter = 0\n",
    "\n",
    "train_keys = ['Overall', 'Domain', 'BC', 'IC', 'Data']\n",
    "\n",
    "for epoch in range(epochs):\n",
    "\n",
    "    ############################################\n",
    "    ## TRAINING\n",
    "    ############################################\n",
    "\n",
    "    loss_list = []\n",
    "    optimizer.zero_grad()\n",
    "    for tag in tags:\n",
    "        X = (datasets[tag][:][0]).to(device)\n",
    "        y = (datasets[tag][:][1]).to(device)\n",
    "        if tag=='Domain':\n",
    "            X.requires_grad = True\n",
    "            T = model(X)\n",
    "            y_hat = model.internalEnergyBalanceResidue(X, T)\n",
    "            loss = loss_fn(y_hat, y)\n",
    "            loss_list.append(loss)\n",
    "\n",
    "        else:\n",
    "            T = model(X)\n",
    "            loss = loss_fn(T, y)\n",
    "            loss_list.append(loss)\n",
    "\n",
    "    loss = sum(loss_list)\n",
    "    # Backpropagation step\n",
    "    loss.backward()\n",
    "    optimizer.step()\n",
    "\n",
    "    loss_list.insert(0, loss)\n",
    "    loss_train.append(loss_list[0].item())\n",
    "    loss_train_dom.append(loss_list[1].item())\n",
    "    loss_train_bc.append(loss_list[2].item())\n",
    "    if isData:\n",
    "        loss_train_data.append(loss_list[4].item())\n",
    "\n",
    "    if epoch % 100 == 0:\n",
    "        log_dict = dict(zip(train_keys, loss_list))\n",
    "        aux = \"\".join(f\"{key}: {value:.5e}, \" for key, value in log_dict.items())\n",
    "        optimizer_str = type(optimizer).__name__\n",
    "        print(f\"##TRAIN## {optimizer_str} - Epoch: {epoch}, \" + aux)\n",
    "\n",
    "elapsed_time_train = datetime.now() - t0\n",
    "print(\"\\nTraining Time: \", elapsed_time_train.seconds, \"[s]\")"
   ]
  },
  {
   "cell_type": "code",
   "execution_count": null,
   "metadata": {},
   "outputs": [],
   "source": [
    "fig, (ax1, ax2) = plt.subplots(1, 2, figsize=(10, 4))\n",
    "\n",
    "# Grafica loss por epoch\n",
    "ax1.plot(train_loss_by_epoch, label=\"Train set\")\n",
    "ax1.plot(val_loss_by_epoch, label=\"Validation set\")\n",
    "ax1.legend()\n",
    "ax1.set_title(\"Loss by Epoch: NN without Embeddings\")\n",
    "ax1.set_xlabel(\"Epoch\")\n",
    "ax1.set_ylabel(\"Cross Entropy\")\n",
    "ax1.grid()\n",
    "\n",
    "# Gráfica de precisión por epoch\n",
    "ax2.plot(train_acc_by_epoch, label=\"Train Accuracy\", color='red')\n",
    "ax2.plot(val_acc_by_epoch, label=\"Validation Accuracy\", color='blue')\n",
    "ax2.legend()\n",
    "ax2.set_title(\"Accuracy by Epoch: NN without Embeddings\")\n",
    "ax2.set_xlabel(\"Epoch\")\n",
    "ax2.set_ylabel(\"Accuracy\")\n",
    "ax2.grid()\n",
    "\n",
    "plt.tight_layout()\n",
    "plt.show()"
   ]
  }
 ],
 "metadata": {
  "accelerator": "GPU",
  "colab": {
   "gpuType": "A100",
   "provenance": []
  },
  "kernelspec": {
   "display_name": "Python 3",
   "name": "python3"
  },
  "language_info": {
   "codemirror_mode": {
    "name": "ipython",
    "version": 3
   },
   "file_extension": ".py",
   "mimetype": "text/x-python",
   "name": "python",
   "nbconvert_exporter": "python",
   "pygments_lexer": "ipython3",
   "version": "3.11.3"
  }
 },
 "nbformat": 4,
 "nbformat_minor": 0
}
